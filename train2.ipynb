{
 "cells": [
  {
   "cell_type": "code",
   "execution_count": 5,
   "metadata": {},
   "outputs": [],
   "source": [
    "import os\n",
    "import json\n",
    "from sklearn.model_selection import train_test_split\n",
    "from lib.train import trainer"
   ]
  },
  {
   "cell_type": "code",
   "execution_count": 6,
   "metadata": {},
   "outputs": [
    {
     "name": "stdout",
     "output_type": "stream",
     "text": [
      "921 79\n"
     ]
    }
   ],
   "source": [
    "def root(name):\n",
    "    return \"-\".join(name.split(\"/\")[-1].split(\".\")[-2].split(\"-\")[:-2 or None])\n",
    "\n",
    "root_path = 'datasets/landcover_processed/rotated_crops/'\n",
    "list_dataset = list(filter(lambda x: x.endswith('.png'), os.listdir(root_path)))\n",
    "list_dataset = list(map(lambda x: root_path + x, list_dataset))\n",
    "list_dataset = list_dataset[:1000]\n",
    "\n",
    "list_root = [root(name) for name in list_dataset]\n",
    "list_root = list(set(list_root))\n",
    "\n",
    "train_root_list, test_root_list = train_test_split(list_root, test_size=0.15)\n",
    "\n",
    "train_img_list = []\n",
    "test_img_list = []\n",
    "for name in list_dataset:\n",
    "    if root(name) in test_root_list and name.endswith('-0.png'):\n",
    "        test_img_list.append(name)\n",
    "    else:\n",
    "        train_img_list.append(name)\n",
    "        \n",
    "print(len(train_img_list), len(test_img_list))\n",
    "with open('train_img_list.json', 'w') as f:\n",
    "    json.dump(train_img_list, f)\n",
    "    \n",
    "with open('test_img_list.json', 'w') as f:\n",
    "    json.dump(test_img_list, f)"
   ]
  },
  {
   "cell_type": "code",
   "execution_count": 7,
   "metadata": {},
   "outputs": [],
   "source": [
    "cfg = {\n",
    "    \"from_scratch\": {\n",
    "        \"use_pretrained_vgg\": false,\n",
    "        \"pretrained_model\": null,\n",
    "        \"train_img_list\": \"train_img_list.json\",\n",
    "        \"test_img_list\": \"test_img_list.json\",\n",
    "        \"batch_size\": 40,\n",
    "        \"num_epochs\": 20,\n",
    "        \"lr\": 0.0001\n",
    "    }\n",
    "}"
   ]
  },
  {
   "cell_type": "code",
   "execution_count": null,
   "metadata": {},
   "outputs": [],
   "source": [
    "trainer(cfg['from_scratch'], train_id='scratch_landcover')"
   ]
  },
  {
   "cell_type": "code",
   "execution_count": null,
   "metadata": {},
   "outputs": [],
   "source": []
  }
 ],
 "metadata": {
  "kernelspec": {
   "display_name": "Python 3",
   "language": "python",
   "name": "python3"
  },
  "language_info": {
   "codemirror_mode": {
    "name": "ipython",
    "version": 3
   },
   "file_extension": ".py",
   "mimetype": "text/x-python",
   "name": "python",
   "nbconvert_exporter": "python",
   "pygments_lexer": "ipython3",
   "version": "3.7.7"
  }
 },
 "nbformat": 4,
 "nbformat_minor": 4
}
