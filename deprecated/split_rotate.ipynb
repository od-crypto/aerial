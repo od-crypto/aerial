{
 "cells": [
  {
   "cell_type": "code",
   "execution_count": null,
   "metadata": {},
   "outputs": [],
   "source": [
    "# ! wget https://www.dropbox.com/s/znlx4inzbg362mf/dataset_lakes.zip?dl=0"
   ]
  },
  {
   "cell_type": "code",
   "execution_count": null,
   "metadata": {},
   "outputs": [],
   "source": [
    "# ! unzip dataset_lakes.zip?dl=0"
   ]
  },
  {
   "cell_type": "code",
   "execution_count": null,
   "metadata": {},
   "outputs": [],
   "source": [
    "# ! wget https://yadi.sk/d/TKvk4qhIF_00tQ"
   ]
  },
  {
   "cell_type": "code",
   "execution_count": null,
   "metadata": {},
   "outputs": [],
   "source": [
    "# ! unzip archive.zip"
   ]
  },
  {
   "cell_type": "code",
   "execution_count": null,
   "metadata": {},
   "outputs": [],
   "source": [
    "# ! pip install cv2\n",
    "# ! pip install opencv-python==4.1.2.30"
   ]
  },
  {
   "cell_type": "code",
   "execution_count": null,
   "metadata": {},
   "outputs": [],
   "source": [
    "#! wget 'https://downloader.disk.yandex.ru/disk/a18704c765e968739a88ff40033cbb736b1133334cc3fee0fb6b9d9cfb49d374/5f63e89d/IFnibbT4du1z8dM_41qrIAcEJm37SutnVq4DhHpd53xhaIawWYlQjnHIdDe0eVnGs6__OxhB770y-urI9UvI8Q%3D%3D?uid=0&filename=Archive.zip&disposition=attachment&hash=Byicd/NluoTMcvGFw7dAKjoSDPlDQL2XEK7p%2Bq0dzaoVDtaBTqPMEtSwEutrFadyq/J6bpmRyOJonT3VoXnDag%3D%3D&limit=0&content_type=application%2Fzip&owner_uid=1159960430&fsize=1740772866&hid=79ac6e9bbf701042899cdc4ac3a53320&media_type=compressed&tknv=v2' -O archive.zip"
   ]
  },
  {
   "cell_type": "code",
   "execution_count": 1,
   "metadata": {},
   "outputs": [],
   "source": [
    "import shutil\n",
    "import cv2\n",
    "import os\n",
    "import imagecodecs\n",
    "import scipy\n",
    "import scipy.ndimage\n",
    "\n",
    "from skimage.io import imread\n",
    "import tifffile\n",
    "from matplotlib import pyplot as plt\n",
    "import numpy as np\n",
    "from PIL import Image\n",
    "from tqdm import tqdm\n",
    "from p_tqdm import p_map\n"
   ]
  },
  {
   "cell_type": "code",
   "execution_count": null,
   "metadata": {},
   "outputs": [],
   "source": [
    "\n",
    "# M = tifffile.imread('masks/M-33-20-D-c-4-2.tif')\n",
    "# fname = 'M-33-48-A-c-4-4.tif'\n",
    "\n",
    "LANDCOVER_MASK_DIR = 'masks'\n",
    "LANDCOVER_IMAGE_DIR = 'images'\n",
    "\n",
    "os.makedirs('intermediate', exist_ok=True)\n",
    "\n",
    "\n",
    "def process_mask(M, dataset):\n",
    "    if dataset == 'LANDCOVER':\n",
    "        M[M != 3] = 0\n",
    "        M[M == 3] = 255\n",
    "    return M\n",
    "\n",
    "def imread(fname, dataset):\n",
    "    if dataset == 'LANDCOVER':\n",
    "        M = tifffile.imread(f'{LANDCOVER_MASK_DIR}/' + fname)\n",
    "        I = tifffile.imread(f'{LANDCOVER_IMAGE_DIR}/' + fname)\n",
    "        process_mask(M, 'LANDCOVER')\n",
    "    I = np.concatenate([I, M[..., None]], axis=-1)\n",
    "    return I\n",
    "\n",
    "#def split_image(im, H, W):\n",
    " #   tiles = [im[i:i+H,j:j+W] for i in range(0,im.shape[0]-H,H) for j in range(0,im.shape[1]-W,W)]\n",
    " #   return tiles\n",
    "\n",
    "def get_rotated_crops(I, angle, crop_size=(448,448), num_crops=2):\n",
    "    if angle == 0:\n",
    "        mask = np.zeros_like(I[:, :, 0])\n",
    "        mask[:mask.shape[0]-crop_size[0], :mask.shape[1]-crop_size[1]] = 1\n",
    "        II = I\n",
    "    else:\n",
    "        angler = angle * np.pi / 180\n",
    "        II = scipy.ndimage.rotate(I, angle)\n",
    "        mask = scipy.ndimage.rotate(np.ones_like(I[:, :, 0]), angle)\n",
    "        kernel = np.ones((crop_size[0] + 1, crop_size[1] + 1), dtype=np.uint8)\n",
    "        mask = cv2.erode(mask, kernel, anchor=(0,0))\n",
    "    \n",
    "    x, y = mask.nonzero()\n",
    "    L = len(x)\n",
    "    for c in np.random.randint(0, L, size=num_crops):\n",
    "        x0 = x[c]\n",
    "        y0 = y[c]\n",
    "        yield II[x0:x0 + crop_size[0], y0:y0 + crop_size[1]]\n",
    "\n",
    "\n",
    "tiles = []\n",
    "j = 0\n",
    "# for fname in tqdm(os.listdir(LANDCOVER_IMAGE_DIR)):\n",
    "def process(fname):\n",
    "    tiles = []\n",
    "    if not fname.endswith('tif'):\n",
    "        return #tiles\n",
    "        #continue\n",
    "    I = imread(fname, 'LANDCOVER')\n",
    "    #j += 1\n",
    "    print(fname)\n",
    "   \n",
    "    for angle in (0, 10, 20, 30, 40, 50, 60, 70, 80):\n",
    "    # for angle in (0, 10):\n",
    "        for i, patch in enumerate(get_rotated_crops(I, angle, num_crops=1000)):\n",
    "            if patch[:, :, -1].max() == 0 or patch[:, :, -1].min() == 255:\n",
    "                continue\n",
    "            base_fname = fname.split(\".\")[0]\n",
    "            Image.fromarray(patch).save(f'intermediate/{base_fname}-{i}-{angle}.png')\n",
    "            # print(i, type(patch), len(patch), angle)\n",
    "            # tiles.append([patch, angle, fname, i])\n",
    "#             if i >= 1:\n",
    "#                 break\n",
    "#     if j>=1:\n",
    "#         break\n",
    "    # return tiles\n",
    "\n",
    "# tiles = p_map(process, os.listdir(LANDCOVER_IMAGE_DIR)[:8])\n",
    "tiles = p_map(process, os.listdir(LANDCOVER_IMAGE_DIR))"
   ]
  },
  {
   "cell_type": "code",
   "execution_count": null,
   "metadata": {},
   "outputs": [],
   "source": [
    "!ls intermediate | wc -l"
   ]
  },
  {
   "cell_type": "code",
   "execution_count": null,
   "metadata": {},
   "outputs": [],
   "source": [
    "1 + 1"
   ]
  },
  {
   "cell_type": "code",
   "execution_count": null,
   "metadata": {},
   "outputs": [],
   "source": [
    "# tiles = [item for group in tiles for item in group]\n",
    "# len(tiles)\n",
    "# tiles[28][1]"
   ]
  },
  {
   "cell_type": "code",
   "execution_count": null,
   "metadata": {},
   "outputs": [],
   "source": [
    "ftest = f'intermediate/M-33-20-D-d-3-3-115-20.png'\n",
    "I = np.asarray(Image.open(ftest))\n",
    "I.shape"
   ]
  },
  {
   "cell_type": "code",
   "execution_count": null,
   "metadata": {},
   "outputs": [],
   "source": [
    "cv2.imread(ftest, cv2.IMREAD_UNCHANGED)[:, :, -1].mean() // (0.1 * 255)"
   ]
  },
  {
   "cell_type": "code",
   "execution_count": null,
   "metadata": {},
   "outputs": [],
   "source": [
    "from IPython.display import Image as Img\n",
    "Img(filename=ftest) "
   ]
  },
  {
   "cell_type": "code",
   "execution_count": null,
   "metadata": {},
   "outputs": [],
   "source": [
    "plt.imshow(I[:, :, 3])"
   ]
  },
  {
   "cell_type": "code",
   "execution_count": null,
   "metadata": {},
   "outputs": [],
   "source": [
    "plt.imshow(I[:, :, :3])"
   ]
  },
  {
   "cell_type": "raw",
   "metadata": {},
   "source": [
    "filter(None, map(f, list)) — это аналог for item in list if bool(item)"
   ]
  },
  {
   "cell_type": "code",
   "execution_count": 6,
   "metadata": {},
   "outputs": [
    {
     "name": "stdout",
     "output_type": "stream",
     "text": [
      "Counter({0.0: 20081, 1.0: 4604, 9.0: 3562, 2.0: 3031, 3.0: 2185, 4.0: 1939, 8.0: 1906, 5.0: 1731, 6.0: 1682, 7.0: 1667})\n",
      "CPU times: user 294 ms, sys: 328 ms, total: 622 ms\n",
      "Wall time: 27.1 s\n"
     ]
    }
   ],
   "source": [
    "%%time\n",
    "import os\n",
    "from collections import Counter\n",
    "\n",
    "# check_initial = Counter([cv2.imread(f'intermediate/{fname}', cv2.IMREAD_UNCHANGED)[:, :, -1].mean() // (0.1 * 255) \n",
    "#                 for fname  in os.listdir('intermediate') if (fname.endswith('.png') and np.asarray(Image.open(f'intermediate/{fname}')).shape == (448, 448, 4))])\n",
    "\n",
    "def create_distribution(fname):\n",
    "    if not fname.endswith('.png'):\n",
    "        return None\n",
    "    I = cv2.imread(f'intermediate/{fname}', cv2.IMREAD_UNCHANGED)\n",
    "    if I is None:\n",
    "        return None\n",
    "    if I.shape != (448, 448, 4):\n",
    "        return None\n",
    "    return I[:, :, -1].mean() // (0.1 * 255), fname\n",
    "\n",
    "from multiprocessing import Pool\n",
    "with Pool(20) as p:\n",
    "    distrib = p.map(create_distribution, os.listdir('intermediate'))\n",
    "\n",
    "    \n",
    "#Counter(filter(None, distrib))\n",
    "check_initial = Counter(map(lambda x: x[0], filter(lambda x: x is not None, distrib)))\n",
    "print(check_initial)"
   ]
  },
  {
   "cell_type": "code",
   "execution_count": 9,
   "metadata": {},
   "outputs": [],
   "source": [
    "from collections import defaultdict\n",
    "use_fnames = defaultdict(list)\n",
    "for mean, fname in filter(lambda x: x is not None, distrib):\n",
    "    if len(use_fnames[mean]) < 5000:        \n",
    "        use_fnames[mean].append(fname)\n",
    "use_fnames = [fname for mean in use_fnames for fname in use_fnames[mean]]"
   ]
  },
  {
   "cell_type": "code",
   "execution_count": 10,
   "metadata": {},
   "outputs": [
    {
     "data": {
      "text/plain": [
       "27307"
      ]
     },
     "execution_count": 10,
     "metadata": {},
     "output_type": "execute_result"
    }
   ],
   "source": [
    "len(use_fnames)"
   ]
  },
  {
   "cell_type": "code",
   "execution_count": 3,
   "metadata": {},
   "outputs": [
    {
     "data": {
      "text/plain": [
       "[1, 2]"
      ]
     },
     "execution_count": 3,
     "metadata": {},
     "output_type": "execute_result"
    }
   ],
   "source": [
    "list(filter(None, [0,0,None,1,2,0]))"
   ]
  },
  {
   "cell_type": "code",
   "execution_count": 4,
   "metadata": {},
   "outputs": [
    {
     "data": {
      "text/plain": [
       "<BarContainer object of 10 artists>"
      ]
     },
     "execution_count": 4,
     "metadata": {},
     "output_type": "execute_result"
    },
    {
     "data": {
      "image/png": "[encoded data removed]",
      "text/plain": [
       "<Figure size 432x288 with 1 Axes>"
      ]
     },
     "metadata": {
      "needs_background": "light"
     },
     "output_type": "display_data"
    }
   ],
   "source": [
    "import collections\n",
    "import matplotlib.pyplot as plt\n",
    "\n",
    "plt.bar(check_initial.keys(), check_initial.values())"
   ]
  },
  {
   "cell_type": "code",
   "execution_count": null,
   "metadata": {},
   "outputs": [],
   "source": [
    "if os.path.exists(\"dataset2\"):\n",
    "    pass\n",
    "    # shutil.rmtree('dataset2')\n",
    "if os.path.exists(\"dataset2_check/images\"):  \n",
    "    pass\n",
    "    # shutil.rmtree('dataset2_check/images')\n",
    "if os.path.exists(\"dataset2_check/masks\"): \n",
    "    pass\n",
    "    # shutil.rmtree('dataset2_check/masks')\n",
    "    \n",
    "    \n",
    "os.makedirs('dataset2', exist_ok=True)\n",
    "os.makedirs('dataset2_check/images', exist_ok=True)\n",
    "os.makedirs('dataset2_check/masks', exist_ok=True)\n",
    "\n",
    "from collections import Counter\n",
    "\n",
    "def create_other_dataset(fname):    \n",
    "    I = np.asarray(Image.open(f'intermediate/{fname}'))\n",
    "\n",
    "    cv2.imwrite(f'dataset2/{fname}',I[:, :, [2,1,0,3]])\n",
    "    cv2.imwrite(f'dataset2_check/masks/{fname}',I[:, :, 3])\n",
    "    cv2.imwrite(f'dataset2_check/images/{fname}',I[:, :, [2,1,0]])\n",
    "\n",
    "with Pool(20) as p:\n",
    "    p.map(create_other_dataset, use_fnames)\n",
    "    \n",
    "#check_final = Counter(filter(None, p_map(create_other_dataset,  os.listdir('intermediate'))))\n",
    "\n"
   ]
  },
  {
   "cell_type": "code",
   "execution_count": 22,
   "metadata": {},
   "outputs": [
    {
     "data": {
      "text/plain": [
       "'RGB'"
      ]
     },
     "execution_count": 22,
     "metadata": {},
     "output_type": "execute_result"
    }
   ],
   "source": [
    "'BGR'[::-1]"
   ]
  },
  {
   "cell_type": "code",
   "execution_count": 19,
   "metadata": {},
   "outputs": [
    {
     "data": {
      "text/plain": [
       "<matplotlib.image.AxesImage at 0x7f358cc808d0>"
      ]
     },
     "execution_count": 19,
     "metadata": {},
     "output_type": "execute_result"
    },
    {
     "data": {
      "image/png": "[encoded data removed]",
      "text/plain": [
       "<Figure size 432x288 with 1 Axes>"
      ]
     },
     "metadata": {
      "needs_background": "light"
     },
     "output_type": "display_data"
    }
   ],
   "source": [
    "mask = cv2.imread('dataset2_check/images/M-33-20-D-d-3-3-11-30.png')\n",
    "plt.imshow(mask[:, :, ::-1])"
   ]
  },
  {
   "cell_type": "code",
   "execution_count": null,
   "metadata": {},
   "outputs": [],
   "source": [
    "!ls dataset2_check | wc -l"
   ]
  },
  {
   "cell_type": "code",
   "execution_count": 23,
   "metadata": {},
   "outputs": [],
   "source": [
    "#!ls dataset2_check/images | head -100"
   ]
  },
  {
   "cell_type": "code",
   "execution_count": null,
   "metadata": {},
   "outputs": [],
   "source": [
    "!ls dataset2_check/masks | wc -l"
   ]
  },
  {
   "cell_type": "code",
   "execution_count": null,
   "metadata": {},
   "outputs": [],
   "source": [
    "# There exist empty files after the splitting and rotating:\n",
    "\n",
    "for fname in tqdm(os.listdir('intermediate')):\n",
    "    if not fname.endswith('png'):\n",
    "        continue\n",
    "        \n",
    "    I = np.asarray(Image.open(f'intermediate/{fname}'))\n",
    "\n",
    "    if I.shape != (448, 448, 4):\n",
    "        #print(I.shape, fname)"
   ]
  },
  {
   "cell_type": "code",
   "execution_count": null,
   "metadata": {},
   "outputs": [],
   "source": [
    "i = 0\n",
    "list_mv = []\n",
    "list_overpopulated = []\n",
    "from collections import Counter\n",
    "\n",
    "# old, much slower:\n",
    "\n",
    "if False:\n",
    "    for image in tqdm(tiles):\n",
    "        # np.asarray(Image.open(fname))\n",
    "        # dummy filter\n",
    "        #\n",
    "        print(image[1])\n",
    "        print(image[0].shape)\n",
    "        if image[0][:, :, -1].max() == 0 or image[0][:, :, -1].min() == 255:\n",
    "            continue\n",
    "\n",
    "        i += 1\n",
    "        mv = image[0][:, :, -1].mean().item() // (0.1 * 255) \n",
    "        list_mv.append(mv)\n",
    "\n",
    "        water_counter = Counter(item for item in list_mv) \n",
    "\n",
    "        for k in water_counter:\n",
    "            if water_counter[k] > 5000:\n",
    "                list_overpopulated.append(k)\n",
    "        if mv in list_overpopulated:\n",
    "            continue\n",
    "            #pass # to check the initial distribution\n",
    "        cv2.imwrite(f'dataset2/{image[2]}_{image[1]}_{image[3]}.png',image[0][:, :, [2,1,0,3]])\n",
    "        cv2.imwrite(f'dataset2_check/masks/{image[2]}_{image[1]}_{image[3]}.png',image[0][:, :, 3] * 255)\n",
    "        cv2.imwrite(f'dataset2_check/images/{image[2]}_{image[1]}_{image[3]}.png',image[0][:, :, [2,1,0]])\n",
    "\n",
    "    # tiles_resized.append(image_resized)\n",
    "#plt.imshow(MM)"
   ]
  },
  {
   "cell_type": "code",
   "execution_count": null,
   "metadata": {},
   "outputs": [],
   "source": [
    "# just checking: \n",
    "\n",
    "I = np.ones((4678, 4113, 4), dtype=np.uint8) * 255\n",
    "\n",
    "def get_rotated_crops(I, angle, crop_size=(448,448), num_crops=2):\n",
    "    if angle == 0:\n",
    "        mask = np.zeros_like(I[:, :, 0])\n",
    "        mask[:mask.shape[0]-crop_size[0], :mask.shape[1]-crop_size[1]] = 1\n",
    "    else:\n",
    "        angler = angle * np.pi / 180\n",
    "        II = scipy.ndimage.rotate(I, angle)\n",
    "        mask = scipy.ndimage.rotate(np.ones_like(I[:, :, 0]), angle)\n",
    "        kernel = np.ones((crop_size[0] + 1, crop_size[1] + 1), dtype=np.uint8)\n",
    "        mask = cv2.erode(mask, kernel, anchor=(0,0))\n",
    "    \n",
    "    \n",
    "    plt.imshow(mask)\n",
    "    #plt.imshow(II)\n",
    "    #x, y = mask.nonzero()\n",
    "    \n",
    "    #p = (x*x + y*y).argsort()[-1000:]\n",
    "    \n",
    "#     for x0, y0 in zip(x[p], y[p]):\n",
    "#         if II[x0:x0 + crop_size[0], y0:y0 + crop_size[1]].min() != 255:\n",
    "#             print(xx, yy)\n",
    "    \n",
    "#     L = len(x)\n",
    "#     for c in np.random.randint(0, L, size=num_crops):\n",
    "#         x0 = x[c]\n",
    "#         y0 = y[c]\n",
    "#         yield II[x0:x0 + crop_size[0], y0:y0 + crop_size[1]]\n",
    "#         break\n",
    "        \n",
    "get_rotated_crops(I, 0)"
   ]
  }
 ],
 "metadata": {
  "kernelspec": {
   "display_name": "Python 3",
   "language": "python",
   "name": "python3"
  },
  "language_info": {
   "codemirror_mode": {
    "name": "ipython",
    "version": 3
   },
   "file_extension": ".py",
   "mimetype": "text/x-python",
   "name": "python",
   "nbconvert_exporter": "python",
   "pygments_lexer": "ipython3",
   "version": "3.7.7"
  }
 },
 "nbformat": 4,
 "nbformat_minor": 4
}
