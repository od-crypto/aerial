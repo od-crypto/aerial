{
 "cells": [
  {
   "cell_type": "code",
   "execution_count": 1,
   "metadata": {},
   "outputs": [],
   "source": [
    "import os\n",
    "import json\n",
    "\n",
    "from PIL import Image\n",
    "\n",
    "import matplotlib.pyplot as plt\n",
    "\n",
    "import torch\n",
    "from torch.utils.data import Dataset\n",
    "from torchvision import transforms\n",
    "\n",
    "from sklearn.model_selection import train_test_split\n",
    "\n",
    "import torch\n",
    "torch.manual_seed(0)\n",
    "torch.backends.cudnn.deterministic = True\n",
    "torch.backends.cudnn.benchmark = False\n",
    "import numpy as np\n",
    "np.random.seed(0)\n",
    "\n",
    "from torch.optim import Adam\n",
    "import torch.nn as nn\n",
    "from torch.utils.data import Dataset, DataLoader\n",
    "\n",
    "from tqdm import tqdm\n",
    "\n",
    "from livelossplot import PlotLosses\n",
    "\n",
    "import ternausnet.models\n",
    "# model = ternausnet.models.UNet11(pretrained=True)"
   ]
  },
  {
   "cell_type": "code",
   "execution_count": 125,
   "metadata": {},
   "outputs": [],
   "source": [
    "root_path = 'datasets/landcover_processed/rotated_crops/'\n",
    "list_dataset = list(filter(lambda x: x.endswith('.png'), os.listdir(root_path)))\n",
    "list_dataset = list(map(lambda x: root_path + x, list_dataset))\n",
    "list_dataset = list_dataset[:7000]\n",
    "#train_img_list, test_img_list = train_test_split(list_dataset, test_size=0.15)\n",
    "#test_img_list = list(filter(lambda x: x.endswith('-0.png'), test_img_list))"
   ]
  },
  {
   "cell_type": "code",
   "execution_count": 126,
   "metadata": {},
   "outputs": [],
   "source": [
    "def root(name):\n",
    "    return \"-\".join(name.split(\"/\")[-1].split(\".\")[-2].split(\"-\")[:-2 or None])"
   ]
  },
  {
   "cell_type": "code",
   "execution_count": 127,
   "metadata": {},
   "outputs": [
    {
     "data": {
      "text/plain": [
       "37"
      ]
     },
     "execution_count": 127,
     "metadata": {},
     "output_type": "execute_result"
    }
   ],
   "source": [
    "list_root = [root(name) for name in list_dataset]\n",
    "list_root = list(set(list_root))\n",
    "len(list_root)"
   ]
  },
  {
   "cell_type": "code",
   "execution_count": 128,
   "metadata": {},
   "outputs": [],
   "source": [
    "train_root_list, test_root_list = train_test_split(list_root, test_size=0.15)"
   ]
  },
  {
   "cell_type": "code",
   "execution_count": 129,
   "metadata": {},
   "outputs": [
    {
     "data": {
      "text/plain": [
       "(31, 6)"
      ]
     },
     "execution_count": 129,
     "metadata": {},
     "output_type": "execute_result"
    }
   ],
   "source": [
    "len(train_root_list), len(test_root_list)"
   ]
  },
  {
   "cell_type": "code",
   "execution_count": 130,
   "metadata": {},
   "outputs": [],
   "source": [
    "train_img_list = []\n",
    "test_img_list = []\n",
    "for name in list_dataset:\n",
    "    if root(name) in test_root_list and not name.endswith('-0.png'):\n",
    "        test_img_list.append(name)\n",
    "    else:\n",
    "        train_img_list.append(name)"
   ]
  },
  {
   "cell_type": "code",
   "execution_count": 131,
   "metadata": {},
   "outputs": [
    {
     "data": {
      "text/plain": [
       "(6436, 564)"
      ]
     },
     "execution_count": 131,
     "metadata": {},
     "output_type": "execute_result"
    }
   ],
   "source": [
    "len(train_img_list), len(test_img_list)"
   ]
  },
  {
   "cell_type": "code",
   "execution_count": 88,
   "metadata": {},
   "outputs": [
    {
     "name": "stdout",
     "output_type": "stream",
     "text": [
      "942 58\n"
     ]
    }
   ],
   "source": [
    "print(len(train_img_list), len(test_img_list))\n",
    "with open('train_img_list.json', 'w') as f:\n",
    "    json.dump(train_img_list, f)\n",
    "    \n",
    "with open('test_img_list.json', 'w') as f:\n",
    "    json.dump(test_img_list, f)"
   ]
  },
  {
   "cell_type": "code",
   "execution_count": 89,
   "metadata": {},
   "outputs": [],
   "source": [
    "from lib.train import WaterDataset, viz, train_transform, test_transform"
   ]
  },
  {
   "cell_type": "code",
   "execution_count": 90,
   "metadata": {},
   "outputs": [],
   "source": [
    "d_train = WaterDataset('train_img_list.json', train_transform)\n",
    "d_val = WaterDataset('test_img_list.json', test_transform)"
   ]
  },
  {
   "cell_type": "code",
   "execution_count": 91,
   "metadata": {},
   "outputs": [
    {
     "data": {
      "text/plain": [
       "942"
      ]
     },
     "execution_count": 91,
     "metadata": {},
     "output_type": "execute_result"
    }
   ],
   "source": [
    "len(d_train)"
   ]
  },
  {
   "cell_type": "code",
   "execution_count": 92,
   "metadata": {},
   "outputs": [
    {
     "name": "stdout",
     "output_type": "stream",
     "text": [
      "Populating the interactive namespace from numpy and matplotlib\n"
     ]
    }
   ],
   "source": [
    "%pylab inline"
   ]
  },
  {
   "cell_type": "code",
   "execution_count": 93,
   "metadata": {},
   "outputs": [],
   "source": [
    "def viz2(s):\n",
    "    img = (s * torch.tensor([0.229, 0.224, 0.225])[:, None, None] + torch.tensor([0.485, 0.456, 0.406])[:, None,None])\n",
    "    print(img.min(), img.max(), img.shape)\n",
    "    img = (255 * (img.transpose(0,1).transpose(1,2).numpy())).astype(np.uint8)\n",
    "    print(img.shape)\n",
    "    plt.imshow(img)\n",
    "    return img"
   ]
  },
  {
   "cell_type": "code",
   "execution_count": 94,
   "metadata": {},
   "outputs": [
    {
     "data": {
      "text/plain": [
       "torch.Size([1, 224, 224])"
      ]
     },
     "execution_count": 94,
     "metadata": {},
     "output_type": "execute_result"
    }
   ],
   "source": [
    "d_val[10][1].shape"
   ]
  },
  {
   "cell_type": "code",
   "execution_count": null,
   "metadata": {},
   "outputs": [],
   "source": [
    "II = viz2(d_val[10][0])"
   ]
  },
  {
   "cell_type": "code",
   "execution_count": null,
   "metadata": {},
   "outputs": [],
   "source": []
  },
  {
   "cell_type": "code",
   "execution_count": null,
   "metadata": {},
   "outputs": [],
   "source": []
  },
  {
   "cell_type": "code",
   "execution_count": null,
   "metadata": {},
   "outputs": [],
   "source": [
    "II.shape"
   ]
  },
  {
   "cell_type": "code",
   "execution_count": null,
   "metadata": {},
   "outputs": [],
   "source": [
    "import json\n",
    "with open('test_img_list.json', 'r') as f:\n",
    "    path = json.load(f)[10]"
   ]
  },
  {
   "cell_type": "code",
   "execution_count": null,
   "metadata": {},
   "outputs": [],
   "source": [
    "import cv2\n",
    "I = cv2.imread('datasets/landcover_processed/rotated_crops/N-34-66-C-c-4-3-773-60.png', cv2.IMREAD_UNCHANGED)"
   ]
  },
  {
   "cell_type": "code",
   "execution_count": null,
   "metadata": {},
   "outputs": [],
   "source": [
    "from PIL import Image\n",
    "I = Image.open('datasets/landcover_processed/rotated_crops/N-34-66-C-c-4-3-773-60.png',).resize((224,224))"
   ]
  },
  {
   "cell_type": "code",
   "execution_count": null,
   "metadata": {},
   "outputs": [],
   "source": [
    "#plt.hist((II.astype(np.int32)-I[:,:,[2,1,0]].astype(np.int32)).reshape(-1))"
   ]
  },
  {
   "cell_type": "code",
   "execution_count": null,
   "metadata": {},
   "outputs": [],
   "source": [
    "#plt.imshow(II-I[:,:,[2,1,0]])"
   ]
  },
  {
   "cell_type": "code",
   "execution_count": null,
   "metadata": {},
   "outputs": [],
   "source": [
    "I.mode"
   ]
  },
  {
   "cell_type": "code",
   "execution_count": null,
   "metadata": {},
   "outputs": [],
   "source": [
    "#I = cv2.resize(I, (224,224), interpolation=cv2.INTER_LINEAR)"
   ]
  },
  {
   "cell_type": "code",
   "execution_count": null,
   "metadata": {},
   "outputs": [],
   "source": [
    "#I.shape"
   ]
  },
  {
   "cell_type": "code",
   "execution_count": null,
   "metadata": {},
   "outputs": [],
   "source": [
    "#I[:,:,[-1]].shape"
   ]
  },
  {
   "cell_type": "code",
   "execution_count": null,
   "metadata": {},
   "outputs": [],
   "source": [
    "#plt.imshow(I[:, :, [2,1,0]])"
   ]
  },
  {
   "cell_type": "code",
   "execution_count": 14,
   "metadata": {},
   "outputs": [
    {
     "data": {
      "text/plain": [
       "(tensor([[[-0.2171, -0.4397, -0.2171,  ...,  0.2282,  0.3138,  0.4337],\n",
       "          [-0.3198, -0.4226, -0.6623,  ...,  0.2282,  0.3823,  0.4337],\n",
       "          [-0.1486, -0.2684, -0.5082,  ...,  0.4337,  0.3994,  0.5536],\n",
       "          ...,\n",
       "          [-0.2342, -0.3541, -0.0801,  ..., -0.8335, -0.8678, -0.5253],\n",
       "          [-0.2513, -0.3712, -0.3712,  ..., -0.7308, -0.9534, -0.5082],\n",
       "          [-0.2684, -0.3712, -0.3712,  ..., -0.7822, -0.9192, -0.4054]],\n",
       " \n",
       "         [[-0.2675, -0.4076, -0.1099,  ...,  0.2402,  0.3277,  0.3978],\n",
       "          [-0.4251, -0.4426, -0.5826,  ...,  0.2577,  0.3627,  0.3803],\n",
       "          [-0.3025, -0.3025, -0.4426,  ...,  0.4153,  0.3277,  0.4503],\n",
       "          ...,\n",
       "          [-0.1800, -0.2850,  0.0126,  ..., -0.5826, -0.6527, -0.2850],\n",
       "          [-0.1975, -0.3375, -0.3375,  ..., -0.4776, -0.7577, -0.2675],\n",
       "          [-0.2150, -0.3375, -0.3375,  ..., -0.5476, -0.7227, -0.1625]],\n",
       " \n",
       "         [[-0.2532, -0.3927, -0.0964,  ..., -0.0267,  0.0431,  0.1128],\n",
       "          [-0.3578, -0.3753, -0.5495,  ..., -0.0267,  0.1128,  0.0953],\n",
       "          [-0.2010, -0.2184, -0.3753,  ...,  0.1302,  0.0953,  0.1825],\n",
       "          ...,\n",
       "          [ 0.0082, -0.0615,  0.2522,  ..., -0.6193, -0.6715, -0.3578],\n",
       "          [ 0.0256, -0.0615, -0.0441,  ..., -0.5844, -0.8284, -0.4275],\n",
       "          [ 0.0431, -0.0267, -0.0092,  ..., -0.7587, -0.8981, -0.4275]]]),\n",
       " tensor([[[0., 0., 0.,  ..., 0., 0., 0.],\n",
       "          [0., 0., 0.,  ..., 0., 0., 0.],\n",
       "          [0., 0., 0.,  ..., 0., 0., 0.],\n",
       "          ...,\n",
       "          [0., 0., 0.,  ..., 0., 0., 0.],\n",
       "          [0., 0., 0.,  ..., 0., 0., 0.],\n",
       "          [0., 0., 0.,  ..., 0., 0., 0.]]]))"
      ]
     },
     "execution_count": 14,
     "metadata": {},
     "output_type": "execute_result"
    }
   ],
   "source": [
    "d_val[3]"
   ]
  },
  {
   "cell_type": "raw",
   "metadata": {},
   "source": [
    "Most interesting experiment is, to train the model from scratch... \n",
    "\n",
    "use_pretrained_vgg True/False  # False is pure UNET11, i.e. initialized with white noise\n",
    "pretrained model None/имя модели\n",
    "# (first one teches on landcover, then one loads a model, \n",
    "# trained on landcover and fine-tune it on sentinel dataset)\n",
    "train_img_list (create different train and test lists, whereas datasets are untouched)\n",
    "test_img_list\n",
    "num_epochs\n",
    "batch_size   ## should be the same for different models \n",
    "learning_rate  ## can be different for different models\n",
    "\n",
    "?? scheduler - what should it be? \n",
    "\n",
    "- unet + pretrained vgg11 [toloka]  // pretrained=False\n",
    "- unet + pretrained vgg11 [landcover] + [toloka] // pretrained=True (pretrained vgg)\n",
    "- unet + pretrained vgg11 [landcover, toloka] + [toloka]  (first train on landcover)\n",
    "- unet + pretrained vgg11 [landcover] + [toloka / 10]  # experiment on using only a small part of toloka, to train it additionally\n",
    "- unet + pretrained vgg11 [landcover, toloka / 10] + [toloka / 10]\n",
    "\n",
    "if use_pretrained_model is not None:\n",
    "    \n",
    "\n",
    "# Save maximum score somehow \n",
    "\n",
    "# the script uses the config (batch_size, learning rate, num_epochs)\n"
   ]
  },
  {
   "cell_type": "code",
   "execution_count": 115,
   "metadata": {},
   "outputs": [],
   "source": [
    "class Metric:\n",
    "    def __init__(self):\n",
    "        self.val = 0\n",
    "        self.N = 0\n",
    "        self.hist = []\n",
    "\n",
    "        \n",
    "    def calc(self, *args):\n",
    "        raise NotImplementedError\n",
    "    \n",
    "    def append(self, *args):\n",
    "        self.val += self.calc(*args)\n",
    "        self.N += 1\n",
    "        \n",
    "    def result(self):\n",
    "        return self.val / self.N\n",
    "    \n",
    "    def reset(self):\n",
    "        self.val = 0\n",
    "        self.N = 0\n",
    "        \n",
    "    def history(self):\n",
    "        self.hist.append(self.val)\n",
    "    \n",
    "    \n",
    "class AccuracyMetric(Metric):\n",
    "    def __init__(self, threshold):\n",
    "        super().__init__()\n",
    "        self.threshold = threshold\n",
    "        \n",
    "    def calc(self, pred, gt):\n",
    "        return ((pred > self.threshold) == gt.bool()).sum().item() / pred.numel()\n",
    "\n",
    "# true positive\n",
    "class LakeAccuracyMetric(Metric):\n",
    "    def __init__(self, threshold):\n",
    "        super().__init__()\n",
    "        self.threshold = threshold\n",
    "        \n",
    "    def calc(self, pred, gt):\n",
    "        return ((gt == 1) & (pred > self.threshold)).sum().item() / (gt == 1).sum().item()\n",
    "\n",
    "# false negative    \n",
    "class NoLakeAccuracyMetric(Metric):\n",
    "    def __init__(self, threshold):\n",
    "        super().__init__()\n",
    "        self.threshold = threshold\n",
    "        \n",
    "    def calc(self, pred, gt):\n",
    "        return ((gt == 0) & (pred < self.threshold)).sum().item() / (gt == 0).sum().item()\n",
    "\n",
    "    \n",
    "class LossMetric(Metric):\n",
    "    def __init__(self):\n",
    "        super().__init__()\n",
    "        #self.threshold = threshold\n",
    "        \n",
    "    def calc(self, loss):\n",
    "        return loss.item()\n"
   ]
  },
  {
   "cell_type": "code",
   "execution_count": 116,
   "metadata": {},
   "outputs": [
    {
     "data": {
      "text/plain": [
       "0.8333333333333333"
      ]
     },
     "execution_count": 116,
     "metadata": {},
     "output_type": "execute_result"
    }
   ],
   "source": [
    "acc = AccuracyMetric(0.5)\n",
    "\n",
    "pred = torch.tensor([0.6,0.4,0.1])\n",
    "gt = torch.tensor([1,0,1])\n",
    "\n",
    "acc.append(pred, gt)\n",
    "\n",
    "pred = torch.tensor([0.6,0.4,0.1])\n",
    "gt = torch.tensor([1,0,0])\n",
    "\n",
    "\n",
    "acc.append(pred, gt)\n",
    "\n",
    "acc.result()"
   ]
  },
  {
   "cell_type": "code",
   "execution_count": 117,
   "metadata": {},
   "outputs": [],
   "source": [
    "\n",
    "def trainer(cfg, train_id=None, num_workers=20, device=None):\n",
    "    \n",
    "    device = device or 'cuda:0' ##\n",
    "    train_id = train_id or cfg['train_id']\n",
    "    use_pretrained_vgg=cfg[\"use_pretrained_vgg\"]\n",
    "    batch_size=cfg[\"batch_size\"]\n",
    "    lr=cfg[\"lr\"]\n",
    "    num_epochs=cfg[\"num_epochs\"]   \n",
    "    \n",
    "    # ?? self.train_img_list = [\"train_img_list\"]\n",
    "    # ?? self.test_img_list = cfg[\"test_img_list\"]\n",
    "   \n",
    "    model = ternausnet.models.UNet11(pretrained=use_pretrained_vgg)\n",
    "    \n",
    "    if cfg['pretrained_model'] is not None:\n",
    "        model.load_state_dict(torch.load(cfg['pretrained_model']))\n",
    "    model = model.to(device)\n",
    "\n",
    "    loss = nn.BCEWithLogitsLoss()\n",
    "   \n",
    "    optimizer = Adam(model.parameters(), lr)    \n",
    "    \n",
    "    dl_train = DataLoader(d_train, batch_size, shuffle=True, num_workers=num_workers)\n",
    "    dl_val = DataLoader(d_val, batch_size, shuffle=False, num_workers=num_workers)\n",
    "\n",
    "        \n",
    "    metrics = {\n",
    "        'val_acc': AccuracyMetric(0.5),\n",
    "        'train_acc': AccuracyMetric(0.5),\n",
    "        'val_loss': LossMetric(),\n",
    "        'train_loss': LossMetric(),\n",
    "        'train_lake_acc': LakeAccuracyMetric(0.5),\n",
    "        'val_lake_acc': LakeAccuracyMetric(0.5),\n",
    "        'train_nolake_acc': NoLakeAccuracyMetric(0.5),\n",
    "        'val_nolake_acc': NoLakeAccuracyMetric(0.5),\n",
    "    }\n",
    "    \n",
    "    groups = {\n",
    "        'accuracy': ['train_acc', 'val_acc'], \n",
    "        'bce-loss': ['train_loss', 'val_loss'], \n",
    "        'lake-acc': ['train_lake_acc', 'val_lake_acc'],\n",
    "        'nolake_acc': ['train_nolake_acc', 'val_nolake_acc'],\n",
    "    }\n",
    "    plotlosses = PlotLosses(groups=groups)\n",
    "\n",
    "    topk_val_losses = {}\n",
    "\n",
    "    for epoch in range(num_epochs):\n",
    "        print('train step')\n",
    "        for name, metric in metrics.items():\n",
    "            metric.reset()\n",
    "\n",
    "        for idx, (im, gt) in enumerate(dl_train):\n",
    "            im = im.to(device)\n",
    "            gt = gt.to(device)\n",
    "            optimizer.zero_grad()\n",
    "\n",
    "            pred = model(im)\n",
    "            L = loss(pred, gt)\n",
    "            L.backward()\n",
    "            assert pred.shape == gt.shape\n",
    "            metrics['train_acc'].append(pred, gt)\n",
    "            metrics['train_lake_acc'].append(pred, gt)\n",
    "            metrics['train_nolake_acc'].append(pred, gt)\n",
    "            metrics['train_loss'].append(L)\n",
    "            optimizer.step()\n",
    "\n",
    "            #if (idx % 10) == 0:\n",
    "            #    pass # eval\n",
    "\n",
    "            \n",
    "        print('eval step')\n",
    "        for idx, (im, gt) in enumerate(dl_val):\n",
    "            im = im.to(device)\n",
    "            gt = gt.to(device)\n",
    "            pred = model(im)\n",
    "            L = loss(pred, gt)\n",
    "            metrics['val_acc'].append(pred, gt)\n",
    "            metrics['val_lake_acc'].append(pred, gt)\n",
    "            metrics['val_nolake_acc'].append(pred, gt)\n",
    "            metrics['val_loss'].append(L)\n",
    "\n",
    "\n",
    "        results = {key: metrics[key].result() for key in metrics}\n",
    "        plotlosses.update(results)\n",
    "        plotlosses.send()\n",
    "\n",
    "        for name, metric in metrics.items():\n",
    "            metric.history()\n",
    "\n",
    "        \n",
    "#         if (len(topk_val_losses) < 5) or (val_loss < max(topk_val_losses.keys())):\n",
    "#             if (len(topk_val_losses) > 0) and (val_loss < max(topk_val_losses.keys())):\n",
    "#                 argmin = max(topk_val_losses.keys())\n",
    "#                 fname = topk_val_losses[argmin]\n",
    "#                 os.remove(fname)\n",
    "#                 del topk_val_losses[argmin]\n",
    "#             topk_val_losses[val_loss] = f'model-{train_id}-{epoch}.pth'\n",
    "#             torch.save(model.state_dict(), f'model-{train_id}-{epoch}.pth')\n",
    "\n",
    "    torch.save(model.state_dict(), 'model-latest.pth')"
   ]
  },
  {
   "cell_type": "code",
   "execution_count": 118,
   "metadata": {},
   "outputs": [],
   "source": [
    "with open('train_config.json', 'r') as f:\n",
    "    cfg = json.load(f)"
   ]
  },
  {
   "cell_type": "code",
   "execution_count": 119,
   "metadata": {},
   "outputs": [],
   "source": [
    "# groups = {'acccuracy': ['acc', 'val_acc'], 'bce-loss': ['loss', 'val_loss'], 'lake-acc': ['lakeacc', 'val_lakeacc']}\n",
    "# plotlosses = PlotLosses(groups=groups)\n",
    "\n",
    "# groups = {'acccuracy': ['train_acc', 'val_acc']}\n",
    "# plotlosses = PlotLosses(groups=groups)"
   ]
  },
  {
   "cell_type": "code",
   "execution_count": 120,
   "metadata": {},
   "outputs": [
    {
     "data": {
      "image/png": "[encoded data removed]",
      "text/plain": [
       "<Figure size 864x864 with 4 Axes>"
      ]
     },
     "metadata": {
      "needs_background": "light"
     },
     "output_type": "display_data"
    },
    {
     "name": "stdout",
     "output_type": "stream",
     "text": [
      "accuracy\n",
      "\ttrain_acc        \t (min:    0.925, max:    0.955, cur:    0.955)\n",
      "\tval_acc          \t (min:    0.898, max:    0.927, cur:    0.927)\n",
      "bce-loss\n",
      "\ttrain_loss       \t (min:    0.112, max:    0.594, cur:    0.112)\n",
      "\tval_loss         \t (min:    0.206, max:    0.480, cur:    0.214)\n",
      "lake-acc\n",
      "\ttraining         \t (min:    0.000, max:    0.516, cur:    0.516)\n",
      "\tvalidation       \t (min:    0.000, max:    0.350, cur:    0.350)\n",
      "nolake_acc\n",
      "\ttraining         \t (min:    0.994, max:    1.000, cur:    0.994)\n",
      "\tvalidation       \t (min:    0.992, max:    1.000, cur:    0.992)\n"
     ]
    }
   ],
   "source": [
    "trainer(cfg['from_scratch'], train_id=\"scratch\")"
   ]
  },
  {
   "cell_type": "code",
   "execution_count": null,
   "metadata": {},
   "outputs": [],
   "source": [
    "print(torch.cuda.device_count())\n",
    "print(torch.cuda.current_device())\n",
    "print(torch.cuda.get_device_name(torch.cuda.current_device()))\n",
    "print(torch.cuda.is_available())"
   ]
  },
  {
   "cell_type": "code",
   "execution_count": null,
   "metadata": {},
   "outputs": [],
   "source": []
  }
 ],
 "metadata": {
  "kernelspec": {
   "display_name": "Python 3",
   "language": "python",
   "name": "python3"
  },
  "language_info": {
   "codemirror_mode": {
    "name": "ipython",
    "version": 3
   },
   "file_extension": ".py",
   "mimetype": "text/x-python",
   "name": "python",
   "nbconvert_exporter": "python",
   "pygments_lexer": "ipython3",
   "version": "3.7.7"
  }
 },
 "nbformat": 4,
 "nbformat_minor": 4
}
