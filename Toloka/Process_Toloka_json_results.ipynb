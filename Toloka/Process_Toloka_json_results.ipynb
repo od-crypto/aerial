{
 "cells": [
  {
   "cell_type": "markdown",
   "metadata": {},
   "source": [
    "# Read Toloka result tsv files into pandas"
   ]
  },
  {
   "cell_type": "code",
   "execution_count": 1,
   "metadata": {},
   "outputs": [],
   "source": [
    "import requests\n",
    "import pandas as pd\n",
    "import json\n",
    "\n",
    "\n",
    "r_config = requests.get('https://raw.githubusercontent.com/od-crypto/somedata/master/toloka_results/toloka_config.json')\n",
    "\n",
    "\n",
    "toloka_config_file = 'toloka_config.json'\n",
    "with open(toloka_config_file, 'w') as f:\n",
    "    f.write(r_config.text)\n",
    "\n",
    "with open(toloka_config_file, 'r') as f:\n",
    "    config = json.load(f)\n",
    "\n",
    "    \n",
    "r1 = requests.get(config['task1_file'])\n",
    "r2 = requests.get(config['task2_file'])\n",
    "\n",
    "\n",
    "with open('toloka-1.tsv', 'w') as f:\n",
    "    f.write(r1.text)\n",
    "\n",
    "with open('toloka-2.tsv', 'w') as f:\n",
    "    f.write(r2.text)"
   ]
  },
  {
   "cell_type": "code",
   "execution_count": 2,
   "metadata": {},
   "outputs": [],
   "source": [
    "df_accepted = pd.read_csv('toloka-1.tsv', sep='\\t')\n",
    "df_check = pd.read_csv('toloka-2.tsv', sep='\\t')"
   ]
  },
  {
   "cell_type": "markdown",
   "metadata": {},
   "source": [
    "### Manually: Toloka json answers to be excluded: "
   ]
  },
  {
   "cell_type": "code",
   "execution_count": 3,
   "metadata": {},
   "outputs": [
    {
     "name": "stdout",
     "output_type": "stream",
     "text": [
      "remove manually from accepted (1st task):  53\n",
      "accepted_images (1st task):  195 195 195\n",
      "check_images (2nd task):  86 86 86\n",
      "86 17\n",
      "Total good images:  212\n"
     ]
    }
   ],
   "source": [
    "remove_from_accepted = config['remove_from_accepted']\n",
    "remove_from_task2 = config['remove_from_task2']\n",
    "# incorrect links in the second Toloka task:\n",
    "broken_task2 = config['broken_task2']\n",
    "\n",
    "accepted_results = df_accepted.loc[:,['OUTPUT:result']]\n",
    "accepted_images = df_accepted.loc[:,'INPUT:image'].to_list()\n",
    "check_images = df_check.loc[:,'INPUT:image'].to_list()\n",
    "\n",
    "print(\"remove manually from accepted (1st task): \", len(remove_from_accepted))\n",
    "print(\"accepted_images (1st task): \", len(df_accepted), len(accepted_images), len(set(accepted_images)) )\n",
    "print(\"check_images (2nd task): \", len(df_check), len(check_images), len(set(check_images)) )\n",
    "\n",
    "remove_check2 = remove_from_task2 + broken_task2\n",
    "print(len(df_check), len(set(remove_check2)) )\n",
    "\n",
    "print(\"Total good images: \", len(df_accepted) - len(set(remove_from_accepted)) + len(df_check) - len(set(remove_check2)))"
   ]
  },
  {
   "cell_type": "code",
   "execution_count": 4,
   "metadata": {},
   "outputs": [
    {
     "name": "stdout",
     "output_type": "stream",
     "text": [
      "Items in good_list2:  69 69\n"
     ]
    },
    {
     "data": {
      "text/plain": [
       "set()"
      ]
     },
     "execution_count": 4,
     "metadata": {},
     "output_type": "execute_result"
    }
   ],
   "source": [
    "df_good2 = df_check[~df_check['INPUT:image'].isin(remove_check2)]\n",
    "\n",
    "good_list2 = df_good2.loc[:,'INPUT:image'].to_list()\n",
    "print(\"Items in good_list2: \", len(df_good2), len(set(good_list2)))\n",
    "\n",
    "set(remove_check2) - set(check_images)"
   ]
  },
  {
   "cell_type": "code",
   "execution_count": 5,
   "metadata": {},
   "outputs": [
    {
     "name": "stdout",
     "output_type": "stream",
     "text": [
      "Items in good_list1 (1st task):  143 143\n",
      "142 0\n"
     ]
    },
    {
     "data": {
      "text/plain": [
       "set()"
      ]
     },
     "execution_count": 5,
     "metadata": {},
     "output_type": "execute_result"
    }
   ],
   "source": [
    "df_good1 = df_accepted[~df_accepted['INPUT:image'].isin(remove_from_accepted)]\n",
    "\n",
    "good_list1 = df_good1.loc[:,'INPUT:image'].to_list()\n",
    "print(\"Items in good_list1 (1st task): \", len(df_good1), len(set(good_list1)))\n",
    "\n",
    "print(len(df_accepted)-len(remove_from_accepted), len(set(remove_from_accepted) - set(accepted_images)))\n",
    "\n",
    "set(remove_from_accepted) - set(accepted_images)"
   ]
  },
  {
   "cell_type": "markdown",
   "metadata": {},
   "source": [
    "### Create the masks (+ collages) from Toloka json answers: "
   ]
  },
  {
   "cell_type": "code",
   "execution_count": 6,
   "metadata": {},
   "outputs": [],
   "source": [
    "#! pip install demjson"
   ]
  },
  {
   "cell_type": "code",
   "execution_count": 7,
   "metadata": {},
   "outputs": [
    {
     "name": "stdout",
     "output_type": "stream",
     "text": [
      "Populating the interactive namespace from numpy and matplotlib\n"
     ]
    },
    {
     "name": "stderr",
     "output_type": "stream",
     "text": [
      "/opt/conda/lib/python3.7/site-packages/IPython/core/magics/pylab.py:160: UserWarning: pylab import has clobbered these variables: ['f']\n",
      "`%matplotlib` prevents importing * from pylab and numpy\n",
      "  \"\\n`%matplotlib` prevents importing * from pylab and numpy\"\n"
     ]
    }
   ],
   "source": [
    "%pylab inline"
   ]
  },
  {
   "cell_type": "code",
   "execution_count": 9,
   "metadata": {},
   "outputs": [
    {
     "name": "stdout",
     "output_type": "stream",
     "text": [
      "212\n",
      "Create masks for images:  1  to  212\n",
      "Total masks created:  212\n"
     ]
    }
   ],
   "source": [
    "#from PIL import Image, ImageDraw\n",
    "import requests\n",
    "import numpy as np\n",
    "from urllib.request import urlopen\n",
    "#from StringIO import StringIO\n",
    "from io import StringIO\n",
    "from io import BytesIO\n",
    "import PIL.Image\n",
    "import cv2\n",
    "import os\n",
    "\n",
    "from create_masks import create_poly, plot_locally, create_collage, create_masks\n",
    "\n",
    "dconfig_name = '../dataset_config.json'\n",
    "with open(dconfig_name, 'r') as f:\n",
    "    dconfig = json.load(f)\n",
    "\n",
    "dconfig['landcover']\n",
    "\n",
    "SIMAGES = '../' + dconfig['sentinel']['image_dir']\n",
    "SCOLLAGES = '../' + dconfig['sentinel']['collage_dir']\n",
    "SMASKS =  '../' + dconfig['sentinel']['mask_dir']\n",
    "\n",
    "SIMAGES, SCOLLAGES, SMASKS\n",
    "\n",
    "df_final = pd.concat([df_good1, df_good2])\n",
    "print(len(df_final))\n",
    "\n",
    "df = df_final\n",
    "create_masks(df, SIMAGES, SCOLLAGES, SMASKS, False, 0, len(df))"
   ]
  },
  {
   "cell_type": "code",
   "execution_count": null,
   "metadata": {},
   "outputs": [],
   "source": []
  }
 ],
 "metadata": {
  "kernelspec": {
   "display_name": "Python 3",
   "language": "python",
   "name": "python3"
  },
  "language_info": {
   "codemirror_mode": {
    "name": "ipython",
    "version": 3
   },
   "file_extension": ".py",
   "mimetype": "text/x-python",
   "name": "python",
   "nbconvert_exporter": "python",
   "pygments_lexer": "ipython3",
   "version": "3.7.7"
  }
 },
 "nbformat": 4,
 "nbformat_minor": 4
}
