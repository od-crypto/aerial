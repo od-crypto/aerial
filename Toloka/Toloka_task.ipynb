{
 "cells": [
  {
   "cell_type": "markdown",
   "metadata": {},
   "source": [
    "### Make a list of all the image file names, that are saved locally:"
   ]
  },
  {
   "cell_type": "code",
   "execution_count": 3,
   "metadata": {},
   "outputs": [
    {
     "data": {
      "text/plain": [
       "282"
      ]
     },
     "execution_count": 3,
     "metadata": {},
     "output_type": "execute_result"
    }
   ],
   "source": [
    "from os import listdir\n",
    "from os.path import isfile, join\n",
    "mypath = '../../aerial/datasets/s2cloudless_imagery/data'\n",
    "image_file_names_list_0 = [f for f in listdir(mypath) if isfile(join(mypath, f))]\n",
    "len(image_file_names_list_0)"
   ]
  },
  {
   "cell_type": "code",
   "execution_count": null,
   "metadata": {},
   "outputs": [],
   "source": [
    "https://raw.githubusercontent.com/od-crypto/somedata/master/img/bolivia_popoo_s2cloudless_2016.jpg\n",
    "    \n",
    "https://github.com/od-crypto/somedata/tree/master/img"
   ]
  },
  {
   "cell_type": "markdown",
   "metadata": {},
   "source": [
    "### make_image_urls: \n",
    "### makes a list with url-links to the corresponding image file names (the same are on github)"
   ]
  },
  {
   "cell_type": "code",
   "execution_count": 4,
   "metadata": {},
   "outputs": [],
   "source": [
    "import json\n",
    "\n",
    "config_name = 'toloka_config.json'\n",
    "with open(config_name, 'r') as f:\n",
    "    config = json.load(f)\n",
    "\n",
    "def make_image_urls(image_file_names_list_0):\n",
    "    #image_list = IMAGE_URLS_HEADER\n",
    "    image_urls_list_0 = []\n",
    "    for f in image_file_names_list_0:\n",
    "        f = config[\"link\"] + f   \n",
    "        image_urls_list_0.append(f)\n",
    "    return image_urls_list_0"
   ]
  },
  {
   "cell_type": "markdown",
   "metadata": {},
   "source": [
    "### apply the function to create the url-links list for the Toloka task:"
   ]
  },
  {
   "cell_type": "code",
   "execution_count": 5,
   "metadata": {},
   "outputs": [],
   "source": [
    "image_urls_list_0 = make_image_urls(image_file_names_list_0);\n",
    "image_urls_list_0;"
   ]
  },
  {
   "cell_type": "markdown",
   "metadata": {},
   "source": [
    "### Function tsv-toloka creates a tsv file with the task for Toloka:"
   ]
  },
  {
   "cell_type": "code",
   "execution_count": 6,
   "metadata": {},
   "outputs": [],
   "source": [
    "#number_lakes_toloka = [\"GOLDEN:lakes\"]\n",
    "#number_islands_toloka = [\"GOLDEN:islands\"]\n",
    "\n",
    "IMAGE_URLS_HEADER = [\"INPUT:image\"]\n",
    "IMAGE_FILE_NAMES_HEADER = [\"INPUT:name\"]\n",
    "RESULT_HEADER = [\"GOLDEN:result\"]\n",
    "\n",
    "HINT_HEADER = [\"HINT:text\"]\n",
    "\n",
    "def tsv_toloka(image_urls_list_0, IMAGE_URLS_HEADER, RESULT_HEADER, HINT_HEADER, output_file_path, IMAGE_FILE_NAMES_HEADER=None):\n",
    "\n",
    "    numItems = len(image_urls_list_0)\n",
    "    outputStr = ''\n",
    "\n",
    "    image_urls_list = IMAGE_URLS_HEADER + image_urls_list_0\n",
    "    \n",
    "    image_file_names_list_0 = [i.split('/')[-1] for i in image_urls_list_0]\n",
    "    image_file_names_list = IMAGE_FILE_NAMES_HEADER + image_file_names_list_0\n",
    "    \n",
    "    result = RESULT_HEADER + ['']*(numItems)\n",
    "    hint = HINT_HEADER + ['']*(numItems)\n",
    "\n",
    "    for i in range(0, numItems+1): \n",
    "        outputStr += image_urls_list[i] + \"\\t\" + image_file_names_list[i] + \"\\t\" + result[i] + \"\\t\" + hint[i] + \"\\n\"\n",
    "        # outputStr += files_toloka[i] + \"\\n\"\n",
    "\n",
    "\n",
    "    with open(output_file_path, \"w\") as outputter:\n",
    "        outputter.write(outputStr)\n",
    "        \n",
    "    df = pd.read_csv(output_file_path, sep='\\t')\n",
    "    \n",
    "    return df.info()"
   ]
  },
  {
   "cell_type": "code",
   "execution_count": 18,
   "metadata": {},
   "outputs": [
    {
     "name": "stdout",
     "output_type": "stream",
     "text": [
      "<class 'pandas.core.frame.DataFrame'>\n",
      "RangeIndex: 282 entries, 0 to 281\n",
      "Data columns (total 4 columns):\n",
      " #   Column         Non-Null Count  Dtype  \n",
      "---  ------         --------------  -----  \n",
      " 0   INPUT:image    282 non-null    object \n",
      " 1   INPUT:name     282 non-null    object \n",
      " 2   GOLDEN:result  0 non-null      float64\n",
      " 3   HINT:text      0 non-null      float64\n",
      "dtypes: float64(2), object(2)\n",
      "memory usage: 8.9+ KB\n"
     ]
    }
   ],
   "source": [
    "import pandas as pd\n",
    "import csv\n",
    "tsv_toloka(image_urls_list_0, IMAGE_URLS_HEADER, RESULT_HEADER, HINT_HEADER, 'Toloka_task_0.tsv', IMAGE_FILE_NAMES_HEADER)"
   ]
  },
  {
   "cell_type": "markdown",
   "metadata": {},
   "source": [
    "# Read Toloka result tsv files into pandas"
   ]
  },
  {
   "cell_type": "code",
   "execution_count": 8,
   "metadata": {},
   "outputs": [],
   "source": [
    "import pandas as pd\n",
    "\n",
    "# Labeling results from the first Toloka task\n",
    "accepted = \"assignments_from_pool_16397010__10-09-2020_accepted.tsv\"\n",
    "df_accepted = pd.read_csv(accepted, sep='\\t')\n",
    "\n",
    "# Labeling results from the second Toloka task: \n",
    "check = \"assignments_from_pool_16483821__15-09-2020_check_29.tsv\"\n",
    "df_check = pd.read_csv(check, sep='\\t')"
   ]
  },
  {
   "cell_type": "markdown",
   "metadata": {},
   "source": [
    "### Manually collected images from Toloka tasks to be resent: "
   ]
  },
  {
   "cell_type": "code",
   "execution_count": 10,
   "metadata": {},
   "outputs": [
    {
     "name": "stdout",
     "output_type": "stream",
     "text": [
      "remove manually from accepted (1st task):  53\n",
      "accepted_images (1st task):  195 195 195\n",
      "check_images (2nd task):  86 86 86\n",
      "86 17\n",
      "Total good images:  212\n"
     ]
    }
   ],
   "source": [
    "remove_from_accepted = config['remove_from_accepted']\n",
    "remove_from_task2 = config['remove_from_task2']\n",
    "# incorrect links in the second Toloka task:\n",
    "broken_task2 = config['broken_task2']\n",
    "\n",
    "accepted_results = df_accepted.loc[:,['OUTPUT:result']]\n",
    "accepted_images = df_accepted.loc[:,'INPUT:image'].to_list()\n",
    "check_images = df_check.loc[:,'INPUT:image'].to_list()\n",
    "\n",
    "print(\"remove manually from accepted (1st task): \", len(remove_from_accepted))\n",
    "print(\"accepted_images (1st task): \", len(df_accepted), len(accepted_images), len(set(accepted_images)) )\n",
    "print(\"check_images (2nd task): \", len(df_check), len(check_images), len(set(check_images)) )\n",
    "\n",
    "remove_check2 = remove_from_task2 + broken_task2\n",
    "print(len(df_check), len(set(remove_check2)) )\n",
    "\n",
    "print(\"Total good images: \", len(df_accepted) - len(set(remove_from_accepted)) + len(df_check) - len(set(remove_check2)))"
   ]
  },
  {
   "cell_type": "code",
   "execution_count": 13,
   "metadata": {},
   "outputs": [
    {
     "name": "stdout",
     "output_type": "stream",
     "text": [
      "Items in good_list2:  69 69\n"
     ]
    },
    {
     "data": {
      "text/plain": [
       "set()"
      ]
     },
     "execution_count": 13,
     "metadata": {},
     "output_type": "execute_result"
    }
   ],
   "source": [
    "df_good2 = df_check[~df_check['INPUT:image'].isin(remove_check2)]\n",
    "\n",
    "good_list2 = df_good2.loc[:,'INPUT:image'].to_list()\n",
    "print(\"Items in good_list2: \", len(df_good2), len(set(good_list2)))\n",
    "\n",
    "set(remove_check2) - set(check_images)"
   ]
  },
  {
   "cell_type": "code",
   "execution_count": 14,
   "metadata": {},
   "outputs": [
    {
     "name": "stdout",
     "output_type": "stream",
     "text": [
      "Items in good_list1 (1st task):  143 143\n",
      "142 0\n"
     ]
    },
    {
     "data": {
      "text/plain": [
       "set()"
      ]
     },
     "execution_count": 14,
     "metadata": {},
     "output_type": "execute_result"
    }
   ],
   "source": [
    "df_good1 = df_accepted[~df_accepted['INPUT:image'].isin(remove_from_accepted)]\n",
    "\n",
    "good_list1 = df_good1.loc[:,'INPUT:image'].to_list()\n",
    "print(\"Items in good_list1 (1st task): \", len(df_good1), len(set(good_list1)))\n",
    "\n",
    "print(len(df_accepted)-len(remove_from_accepted), len(set(remove_from_accepted) - set(accepted_images)))\n",
    "\n",
    "set(remove_from_accepted) - set(accepted_images)"
   ]
  },
  {
   "cell_type": "markdown",
   "metadata": {},
   "source": [
    "## Create the masks and the collages for the processed in Toloka lakes: "
   ]
  },
  {
   "cell_type": "code",
   "execution_count": 10,
   "metadata": {},
   "outputs": [],
   "source": [
    "#! pip install demjson"
   ]
  },
  {
   "cell_type": "code",
   "execution_count": 11,
   "metadata": {},
   "outputs": [
    {
     "name": "stdout",
     "output_type": "stream",
     "text": [
      "Populating the interactive namespace from numpy and matplotlib\n"
     ]
    }
   ],
   "source": [
    "%pylab inline"
   ]
  },
  {
   "cell_type": "code",
   "execution_count": 15,
   "metadata": {},
   "outputs": [
    {
     "name": "stdout",
     "output_type": "stream",
     "text": [
      "212\n"
     ]
    }
   ],
   "source": [
    "#from PIL import Image, ImageDraw\n",
    "import requests\n",
    "import numpy as np\n",
    "from urllib.request import urlopen\n",
    "#from StringIO import StringIO\n",
    "from io import StringIO\n",
    "from io import BytesIO\n",
    "import PIL.Image\n",
    "import cv2\n",
    "import os\n",
    "\n",
    "from create_masks import create_poly, plot_locally, create_collage, create_masks\n",
    "\n",
    "df_final = pd.concat([df_good1, df_good2])\n",
    "print(len(df_final))\n",
    "\n",
    "df = df_final\n",
    "#create_masks(df, \"sentinel_masks\", \"sentinel_collages\", \"sentinel_images\", False, 0, len(df))"
   ]
  },
  {
   "cell_type": "markdown",
   "metadata": {},
   "source": [
    "## Create new Toloka task file: "
   ]
  },
  {
   "cell_type": "code",
   "execution_count": 16,
   "metadata": {},
   "outputs": [
    {
     "name": "stdout",
     "output_type": "stream",
     "text": [
      "70\n",
      "<class 'pandas.core.frame.DataFrame'>\n",
      "RangeIndex: 70 entries, 0 to 69\n",
      "Data columns (total 4 columns):\n",
      " #   Column         Non-Null Count  Dtype  \n",
      "---  ------         --------------  -----  \n",
      " 0   INPUT:image    70 non-null     object \n",
      " 1   INPUT:name     70 non-null     object \n",
      " 2   GOLDEN:result  0 non-null      float64\n",
      " 3   HINT:text      0 non-null      float64\n",
      "dtypes: float64(2), object(2)\n",
      "memory usage: 2.3+ KB\n"
     ]
    }
   ],
   "source": [
    "new_task_list = list(set(image_urls_list_0)-set(df_final.loc[:,'INPUT:image'].to_list()))\n",
    "print(len(new_task_list))\n",
    "\n",
    "tsv_toloka(new_task_list, IMAGE_URLS_HEADER, RESULT_HEADER, HINT_HEADER, 'Toloka_task.tsv', IMAGE_FILE_NAMES_HEADER)"
   ]
  },
  {
   "cell_type": "code",
   "execution_count": null,
   "metadata": {},
   "outputs": [],
   "source": []
  }
 ],
 "metadata": {
  "kernelspec": {
   "display_name": "Python 3",
   "language": "python",
   "name": "python3"
  },
  "language_info": {
   "codemirror_mode": {
    "name": "ipython",
    "version": 3
   },
   "file_extension": ".py",
   "mimetype": "text/x-python",
   "name": "python",
   "nbconvert_exporter": "python",
   "pygments_lexer": "ipython3",
   "version": "3.7.7"
  }
 },
 "nbformat": 4,
 "nbformat_minor": 4
}