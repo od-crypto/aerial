{
 "cells": [
  {
   "cell_type": "code",
   "execution_count": 2,
   "metadata": {},
   "outputs": [],
   "source": [
    "%matplotlib inline\n",
    "\n",
    "import json\n",
    "\n",
    "from matplotlib import pyplot as plt\n",
    "from preprocessing import LandcoverDatasetPreprocessor, SentinelDatasetPreprocessor\n",
    "\n",
    "config_name = 'dataset_config.json'\n",
    "with open(config_name, 'r') as f:\n",
    "    config = json.load(f)\n",
    "    \n",
    "ld = LandcoverDatasetPreprocessor(config['landcover'])\n",
    "#sn = SentinelDatasetPreprocessor(config['sentinel'])"
   ]
  },
  {
   "cell_type": "code",
   "execution_count": 3,
   "metadata": {},
   "outputs": [
    {
     "data": {
      "image/png": "[encoded data removed]",
      "text/plain": [
       "<Figure size 432x288 with 1 Axes>"
      ]
     },
     "metadata": {
      "needs_background": "light"
     },
     "output_type": "display_data"
    }
   ],
   "source": [
    "ld.set_ifids()\n",
    "distrib, c = ld.distribution()\n",
    "ld.plot_distrib(c)"
   ]
  },
  {
   "cell_type": "code",
   "execution_count": 4,
   "metadata": {},
   "outputs": [],
   "source": [
    "ld.set_distrib_max(5000)\n",
    "ld.create_balanced_dataset(distrib)"
   ]
  },
  {
   "cell_type": "code",
   "execution_count": null,
   "metadata": {},
   "outputs": [],
   "source": [
    "sn.set_ifids()\n",
    "distrib, c = sn.distribution()\n",
    "sn.plot_distrib(c)"
   ]
  }
 ],
 "metadata": {
  "kernelspec": {
   "display_name": "Python 3",
   "language": "python",
   "name": "python3"
  },
  "language_info": {
   "codemirror_mode": {
    "name": "ipython",
    "version": 3
   },
   "file_extension": ".py",
   "mimetype": "text/x-python",
   "name": "python",
   "nbconvert_exporter": "python",
   "pygments_lexer": "ipython3",
   "version": "3.7.7"
  }
 },
 "nbformat": 4,
 "nbformat_minor": 4
}
