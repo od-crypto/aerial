{
 "cells": [
  {
   "cell_type": "code",
   "execution_count": 1,
   "metadata": {},
   "outputs": [
    {
     "name": "stdout",
     "output_type": "stream",
     "text": [
      "True\n"
     ]
    }
   ],
   "source": [
    "import yadisk\n",
    "y = yadisk.YaDisk(token=\"AgAAAABFI5duAAaakpBn-QGv1EGikA9INtBQiT8\")\n",
    "print(y.check_token()) # check the token"
   ]
  },
  {
   "cell_type": "code",
   "execution_count": null,
   "metadata": {},
   "outputs": [],
   "source": [
    "type(y)"
   ]
  },
  {
   "cell_type": "code",
   "execution_count": null,
   "metadata": {},
   "outputs": [],
   "source": [
    "y.mkdir(\"/lalala\") # in principle should create a list, but it does not do it..."
   ]
  },
  {
   "cell_type": "code",
   "execution_count": null,
   "metadata": {},
   "outputs": [],
   "source": [
    "# \n",
    "y.upload(\"untitled.txt\", \"/test/untitled.txt\") # upload a local file to Yandex Disk"
   ]
  },
  {
   "cell_type": "markdown",
   "metadata": {},
   "source": [
    "### Send the whole folder with its content to the Yandex Disk:"
   ]
  },
  {
   "cell_type": "code",
   "execution_count": 12,
   "metadata": {},
   "outputs": [],
   "source": [
    "def yamkdir(y, folder):\n",
    "    try:\n",
    "        y.mkdir(folder)\n",
    "        print(folder)\n",
    "    except yadisk.exceptions.DirectoryExistsError:\n",
    "        print(f'{folder} exists')"
   ]
  },
  {
   "cell_type": "code",
   "execution_count": 13,
   "metadata": {},
   "outputs": [],
   "source": [
    "import yadisk\n",
    "import os\n",
    "from datetime import datetime\n",
    "\n",
    "def send_folder_to_yadisk(local_folder, yadisk_folder):\n",
    "    y = yadisk.YaDisk(token=\"AgAAAABFI5duAAaakpBn-QGv1EGikA9INtBQiT8\")\n",
    "\n",
    "    date = datetime.strftime(datetime.now(), \"%d-%m-%Y-%H-%M-%S\")\n",
    "\n",
    "    folder = []\n",
    "    for i in os.walk(f'{local_folder}'):\n",
    "        folder.append(i)\n",
    "    for address, dirs, files in folder:\n",
    "        # print('>>>', dirs)\n",
    "        # for dir_ in dirs:    \n",
    "        #    yamkdir(y, yadisk_folder)\n",
    "        #    yamkdir(y, f'{yadisk_folder}/{date}')\n",
    "        #    yamkdir(y, f'/{yadisk_folder}/{date}/{dir_}') # Does not work!!\n",
    "        #    print(f'Folder {dir} is created')\n",
    "        for file in files:\n",
    "            print(f'File {file} is loaded')\n",
    "            yamkdir(y, f'{yadisk_folder}/{date}')\n",
    "            y.upload(f'{address}/{file}', f'/{yadisk_folder}/{date}/{file}')"
   ]
  },
  {
   "cell_type": "code",
   "execution_count": 14,
   "metadata": {},
   "outputs": [
    {
     "name": "stdout",
     "output_type": "stream",
     "text": [
      "File model-123-50.pth is loaded\n",
      "models/16-09-2020-20-13-39\n",
      "File model-123-72.pth is loaded\n",
      "models/16-09-2020-20-13-39 exists\n",
      "File model-latest.pth is loaded\n",
      "models/16-09-2020-20-13-39 exists\n",
      "File model-123-51.pth is loaded\n",
      "models/16-09-2020-20-13-39 exists\n",
      "File model-123-84.pth is loaded\n",
      "models/16-09-2020-20-13-39 exists\n",
      "File model-123-90.pth is loaded\n",
      "models/16-09-2020-20-13-39 exists\n"
     ]
    }
   ],
   "source": [
    "send_folder_to_yadisk('models', 'models')"
   ]
  },
  {
   "cell_type": "code",
   "execution_count": null,
   "metadata": {},
   "outputs": [],
   "source": []
  }
 ],
 "metadata": {
  "kernelspec": {
   "display_name": "Python 3",
   "language": "python",
   "name": "python3"
  },
  "language_info": {
   "codemirror_mode": {
    "name": "ipython",
    "version": 3
   },
   "file_extension": ".py",
   "mimetype": "text/x-python",
   "name": "python",
   "nbconvert_exporter": "python",
   "pygments_lexer": "ipython3",
   "version": "3.7.7"
  }
 },
 "nbformat": 4,
 "nbformat_minor": 4
}
