{
 "cells": [
  {
   "cell_type": "code",
   "execution_count": null,
   "metadata": {},
   "outputs": [],
   "source": [
    "# ! wget https://www.dropbox.com/s/znlx4inzbg362mf/dataset_lakes.zip?dl=0"
   ]
  },
  {
   "cell_type": "code",
   "execution_count": null,
   "metadata": {},
   "outputs": [],
   "source": [
    "# ! unzip dataset_lakes.zip?dl=0"
   ]
  },
  {
   "cell_type": "code",
   "execution_count": null,
   "metadata": {},
   "outputs": [],
   "source": [
    "# ! wget https://yadi.sk/d/TKvk4qhIF_00tQ"
   ]
  },
  {
   "cell_type": "code",
   "execution_count": null,
   "metadata": {},
   "outputs": [],
   "source": [
    "# ! unzip archive.zip"
   ]
  },
  {
   "cell_type": "code",
   "execution_count": null,
   "metadata": {},
   "outputs": [],
   "source": [
    "# ! pip install cv2\n",
    "# ! pip install opencv-python==4.1.2.30"
   ]
  },
  {
   "cell_type": "code",
   "execution_count": null,
   "metadata": {},
   "outputs": [],
   "source": [
    "#! wget 'https://downloader.disk.yandex.ru/disk/a18704c765e968739a88ff40033cbb736b1133334cc3fee0fb6b9d9cfb49d374/5f63e89d/IFnibbT4du1z8dM_41qrIAcEJm37SutnVq4DhHpd53xhaIawWYlQjnHIdDe0eVnGs6__OxhB770y-urI9UvI8Q%3D%3D?uid=0&filename=Archive.zip&disposition=attachment&hash=Byicd/NluoTMcvGFw7dAKjoSDPlDQL2XEK7p%2Bq0dzaoVDtaBTqPMEtSwEutrFadyq/J6bpmRyOJonT3VoXnDag%3D%3D&limit=0&content_type=application%2Fzip&owner_uid=1159960430&fsize=1740772866&hid=79ac6e9bbf701042899cdc4ac3a53320&media_type=compressed&tknv=v2' -O archive.zip"
   ]
  },
  {
   "cell_type": "code",
   "execution_count": null,
   "metadata": {},
   "outputs": [],
   "source": [
    "if os.path.exists(\"dataset2\"):\n",
    "    pass\n",
    "    # shutil.rmtree('dataset2')\n",
    "if os.path.exists(\"dataset2_check/images\"):  \n",
    "    pass\n",
    "    # shutil.rmtree('dataset2_check/images')\n",
    "if os.path.exists(\"dataset2_check/masks\"): \n",
    "    pass\n",
    "    # shutil.rmtree('dataset2_check/masks')"
   ]
  },
  {
   "cell_type": "code",
   "execution_count": null,
   "metadata": {},
   "outputs": [],
   "source": []
  },
  {
   "cell_type": "code",
   "execution_count": null,
   "metadata": {},
   "outputs": [],
   "source": []
  },
  {
   "cell_type": "code",
   "execution_count": 1,
   "metadata": {},
   "outputs": [
    {
     "data": {
      "application/vnd.jupyter.widget-view+json": {
       "model_id": "7efc99fc12bd4cf584087599ee1664c9",
       "version_major": 2,
       "version_minor": 0
      },
      "text/plain": [
       "HBox(children=(FloatProgress(value=0.0, max=58.0), HTML(value='')))"
      ]
     },
     "metadata": {},
     "output_type": "display_data"
    },
    {
     "name": "stdout",
     "output_type": "stream",
     "text": [
      "N-34-61-B-a-1-1.tif\n",
      "N-34-140-A-d-4-2.tif\n",
      "M-34-77-B-c-2-3.tif\n",
      "M-34-55-B-b-4-1.tif\n",
      "N-33-139-D-c-1-3.tif\n",
      "N-33-130-A-d-4-4.tif\n",
      "M-33-20-D-c-4-2.tif\n",
      "M-33-7-A-d-2-3.tif\n",
      "M-34-5-D-d-4-2.tif\n",
      "M-34-65-D-d-4-1.tif\n",
      "N-33-130-A-d-3-3.tif\n",
      "M-33-7-A-d-3-2.tif\n",
      "N-34-94-A-b-2-4.tif\n",
      "N-34-140-A-d-3-4.tif\n",
      "M-33-48-A-c-4-4.tif\n",
      "M-34-51-C-d-4-1.tif\n",
      "N-34-106-A-c-1-3.tif\n",
      "N-33-60-D-d-1-2.tif\n",
      "N-34-106-A-b-3-4.tif\n",
      "M-34-68-B-a-1-3.tif\n",
      "M-34-6-A-d-2-2.tif\n",
      "N-33-60-D-c-4-2.tif\n",
      "M-34-65-D-a-4-4.tif\n",
      "N-33-139-C-d-2-2.tif\n",
      "N-33-104-A-c-1-1.tif\n",
      "M-34-32-B-a-4-3.tif\n",
      "M-34-32-B-b-1-3.tif\n",
      "N-34-140-A-b-4-2.tif\n",
      "N-33-119-C-c-3-3.tif\n",
      "N-33-139-C-d-2-4.tif\n",
      "N-34-66-C-c-4-3.tif\n",
      "N-33-96-D-d-1-1.tif\n",
      "N-34-97-C-b-1-2.tif\n",
      "M-33-20-D-d-3-3.tif\n",
      "M-34-65-D-c-4-2.tif\n",
      "N-34-140-A-b-3-2.tif\n",
      "N-34-77-A-b-1-4.tif\n",
      "M-34-56-A-b-1-4.tif\n",
      "M-34-51-C-b-2-1.tif\n",
      "N-34-97-D-c-2-4.tif\n",
      "M-33-32-B-b-4-4.tif\n",
      "\n"
     ]
    }
   ],
   "source": [
    "import shutil\n",
    "import cv2\n",
    "import os\n",
    "import imagecodecs\n",
    "import scipy\n",
    "from tqdm import tqdm\n",
    "import scipy.ndimage\n",
    "\n",
    "from skimage.io import imread\n",
    "import tifffile\n",
    "from matplotlib import pyplot as plt\n",
    "import numpy as np\n",
    "from PIL import Image\n",
    "# M = tifffile.imread('masks/M-33-20-D-c-4-2.tif')\n",
    "\n",
    "\n",
    "os.makedirs('dataset2', exist_ok=True)\n",
    "os.makedirs('dataset2_check/images', exist_ok=True)\n",
    "os.makedirs('dataset2_check/masks', exist_ok=True)\n",
    "\n",
    "\n",
    "# fname = 'M-33-48-A-c-4-4.tif'\n",
    "\n",
    "LANDCOVER_MASK_DIR = 'masks'\n",
    "LANDCOVER_IMAGE_DIR = 'images'\n",
    "\n",
    "def process_mask(M, dataset):\n",
    "    if dataset == 'LANDCOVER':\n",
    "        M[M != 3] = 0\n",
    "        M[M == 3] = 255\n",
    "    return M\n",
    "\n",
    "def imread(fname, dataset):\n",
    "    if dataset == 'LANDCOVER':\n",
    "        M = tifffile.imread(f'{LANDCOVER_MASK_DIR}/' + fname)\n",
    "        I = tifffile.imread(f'{LANDCOVER_IMAGE_DIR}/' + fname)\n",
    "        process_mask(M, 'LANDCOVER')\n",
    "    I = np.concatenate([I, M[..., None]], axis=-1)\n",
    "    return I\n",
    "\n",
    "#def split_image(im, H, W):\n",
    " #   tiles = [im[i:i+H,j:j+W] for i in range(0,im.shape[0]-H,H) for j in range(0,im.shape[1]-W,W)]\n",
    " #   return tiles\n",
    "\n",
    "def get_rotated_crops(I, angle, crop_size=(448,448), num_crops=2):\n",
    "    if angle == 0:\n",
    "        mask = np.zeros_like(I[:, :, 0])\n",
    "        mask[:mask.shape[0]-crop_size[0], :mask.shape[1]-crop_size[1]] = 1\n",
    "        II = I\n",
    "    else:\n",
    "        angler = angle * np.pi / 180\n",
    "        II = scipy.ndimage.rotate(I, angle)\n",
    "        mask = scipy.ndimage.rotate(np.ones_like(I[:, :, 0]), angle)\n",
    "        kernel = np.ones((crop_size[0] + 1, crop_size[1] + 1), dtype=np.uint8)\n",
    "        mask = cv2.erode(mask, kernel, anchor=(0,0))\n",
    "    \n",
    "    x, y = mask.nonzero()\n",
    "    L = len(x)\n",
    "    for c in np.random.randint(0, L, size=num_crops):\n",
    "        x0 = x[c]\n",
    "        y0 = y[c]\n",
    "        yield II[x0:x0 + crop_size[0], y0:y0 + crop_size[1]]\n",
    "\n",
    "from p_tqdm import p_map\n",
    "\n",
    "tiles = []\n",
    "j = 0\n",
    "# for fname in tqdm(os.listdir(LANDCOVER_IMAGE_DIR)):\n",
    "def process(fname):\n",
    "    tiles = []\n",
    "    if not fname.endswith('tif'):\n",
    "        return #tiles\n",
    "        #continue\n",
    "    I = imread(fname, 'LANDCOVER')\n",
    "    #j += 1\n",
    "    print(fname)\n",
    "   \n",
    "    # for angle in (0, 10, 20, 30, 40, 50, 60, 70, 80):\n",
    "    for angle in (0, 10):\n",
    "        for i, patch in enumerate(get_rotated_crops(I, angle, num_crops=100)):\n",
    "            if patch[:, :, -1].max() == 0 or patch[:, :, -1].min() == 255:\n",
    "                continue\n",
    "            base_fname = fname.split(\".\")[0]\n",
    "            Image.fromarray(patch).save(f'intermediate/{base_fname}-{i}-{angle}.png')\n",
    "            # print(i, type(patch), len(patch), angle)\n",
    "            # tiles.append([patch, angle, fname, i])\n",
    "#             if i >= 1:\n",
    "#                 break\n",
    "#     if j>=1:\n",
    "#         break\n",
    "    # return tiles\n",
    "\n",
    "#tiles = p_map(process, os.listdir(LANDCOVER_IMAGE_DIR)[:8])\n",
    "tiles = p_map(process, os.listdir(LANDCOVER_IMAGE_DIR))"
   ]
  },
  {
   "cell_type": "code",
   "execution_count": null,
   "metadata": {},
   "outputs": [],
   "source": [
    "tiles = [item for group in tiles for item in group]"
   ]
  },
  {
   "cell_type": "code",
   "execution_count": null,
   "metadata": {},
   "outputs": [],
   "source": [
    "len(tiles)"
   ]
  },
  {
   "cell_type": "code",
   "execution_count": null,
   "metadata": {},
   "outputs": [],
   "source": [
    "tiles[28][1]"
   ]
  },
  {
   "cell_type": "code",
   "execution_count": null,
   "metadata": {},
   "outputs": [],
   "source": [
    "i = 0\n",
    "list_mv = []\n",
    "list_overpopulated = []\n",
    "from collections import Counter\n",
    "for image in tqdm(tiles):\n",
    "    # dummy filter\n",
    "    #\n",
    "    print(image[1])\n",
    "    print(image[0].shape)\n",
    "    if image[0][:, :, -1].max() == 0 or image[0][:, :, -1].min() == 255:\n",
    "        continue\n",
    "    \n",
    "    i += 1\n",
    "    mv = image[0][:, :, -1].mean().item() // (0.1 * 255) \n",
    "    list_mv.append(mv)\n",
    "\n",
    "    water_counter = Counter(item for item in list_mv) \n",
    "\n",
    "    for k in water_counter:\n",
    "        if water_counter[k] > 200:\n",
    "            list_overpopulated.append(k)\n",
    "    if mv in list_overpopulated:\n",
    "        #continue\n",
    "        pass # to check the initial distribution\n",
    "    cv2.imwrite(f'dataset2/{image[2]}_{image[1]}_{image[3]}.png',image[0][:, :, [2,1,0,3]])\n",
    "    cv2.imwrite(f'dataset2_check/masks/{image[2]}_{image[1]}_{image[3]}.png',image[0][:, :, 3] * 255)\n",
    "    cv2.imwrite(f'dataset2_check/images/{image[2]}_{image[1]}_{image[3]}.png',image[0][:, :, [2,1,0]])\n",
    "\n",
    "    # tiles_resized.append(image_resized)\n",
    "#plt.imshow(MM)"
   ]
  },
  {
   "cell_type": "code",
   "execution_count": null,
   "metadata": {},
   "outputs": [],
   "source": [
    "I = np.ones((4678, 4113, 4), dtype=np.uint8) * 255\n",
    "\n",
    "def get_rotated_crops(I, angle, crop_size=(448,448), num_crops=2):\n",
    "    if angle == 0:\n",
    "        mask = np.zeros_like(I[:, :, 0])\n",
    "        mask[:mask.shape[0]-crop_size[0], :mask.shape[1]-crop_size[1]] = 1\n",
    "    else:\n",
    "        angler = angle * np.pi / 180\n",
    "        II = scipy.ndimage.rotate(I, angle)\n",
    "        mask = scipy.ndimage.rotate(np.ones_like(I[:, :, 0]), angle)\n",
    "        kernel = np.ones((crop_size[0] + 1, crop_size[1] + 1), dtype=np.uint8)\n",
    "        mask = cv2.erode(mask, kernel, anchor=(0,0))\n",
    "    \n",
    "    \n",
    "    plt.imshow(mask)\n",
    "    #plt.imshow(II)\n",
    "    #x, y = mask.nonzero()\n",
    "    \n",
    "    #p = (x*x + y*y).argsort()[-1000:]\n",
    "    \n",
    "#     for x0, y0 in zip(x[p], y[p]):\n",
    "#         if II[x0:x0 + crop_size[0], y0:y0 + crop_size[1]].min() != 255:\n",
    "#             print(xx, yy)\n",
    "    \n",
    "#     L = len(x)\n",
    "#     for c in np.random.randint(0, L, size=num_crops):\n",
    "#         x0 = x[c]\n",
    "#         y0 = y[c]\n",
    "#         yield II[x0:x0 + crop_size[0], y0:y0 + crop_size[1]]\n",
    "#         break\n",
    "        \n",
    "get_rotated_crops(I, 0)\n"
   ]
  },
  {
   "cell_type": "code",
   "execution_count": null,
   "metadata": {},
   "outputs": [],
   "source": []
  }
 ],
 "metadata": {
  "kernelspec": {
   "display_name": "Python 3",
   "language": "python",
   "name": "python3"
  },
  "language_info": {
   "codemirror_mode": {
    "name": "ipython",
    "version": 3
   },
   "file_extension": ".py",
   "mimetype": "text/x-python",
   "name": "python",
   "nbconvert_exporter": "python",
   "pygments_lexer": "ipython3",
   "version": "3.7.7"
  }
 },
 "nbformat": 4,
 "nbformat_minor": 4
}
