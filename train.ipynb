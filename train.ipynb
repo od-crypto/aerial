{
 "cells": [
  {
   "cell_type": "code",
   "execution_count": 1,
   "metadata": {},
   "outputs": [],
   "source": [
    "import os\n",
    "import json\n",
    "\n",
    "from PIL import Image\n",
    "\n",
    "import matplotlib.pyplot as plt\n",
    "\n",
    "import torch\n",
    "from torch.utils.data import Dataset\n",
    "from torchvision import transforms\n",
    "\n",
    "from sklearn.model_selection import train_test_split\n",
    "\n",
    "import torch\n",
    "torch.manual_seed(0)\n",
    "torch.backends.cudnn.deterministic = True\n",
    "torch.backends.cudnn.benchmark = False\n",
    "import numpy as np\n",
    "np.random.seed(0)\n",
    "\n",
    "from torch.optim import Adam\n",
    "import torch.nn as nn\n",
    "from torch.utils.data import Dataset, DataLoader\n",
    "\n",
    "from tqdm import tqdm\n",
    "\n",
    "from livelossplot import PlotLosses\n",
    "\n",
    "import ternausnet.models\n",
    "model = ternausnet.models.UNet11(pretrained=True)"
   ]
  },
  {
   "cell_type": "code",
   "execution_count": 2,
   "metadata": {},
   "outputs": [],
   "source": [
    "root_path = 'datasets/landcover_processed/rotated_crops/'\n",
    "list_dataset = os.listdir(root_path)\n",
    "list_dataset = list(map(lambda x: root_path + x, list_dataset))\n",
    "train_img_list, test_img_list = train_test_split(list_dataset, test_size=0.15)\n",
    "test_img_list = list(filter(lambda x: x.endswith('-0.png'), test_img_list))"
   ]
  },
  {
   "cell_type": "code",
   "execution_count": 3,
   "metadata": {},
   "outputs": [
    {
     "name": "stdout",
     "output_type": "stream",
     "text": [
      "23210 983\n"
     ]
    }
   ],
   "source": [
    "print(len(train_img_list), len(test_img_list))\n",
    "with open('train_img_list.json', 'w') as f:\n",
    "    json.dump(train_img_list, f)\n",
    "    \n",
    "with open('test_img_list.json', 'w') as f:\n",
    "    json.dump(test_img_list, f)"
   ]
  },
  {
   "cell_type": "code",
   "execution_count": 4,
   "metadata": {},
   "outputs": [],
   "source": [
    "from lib.train import WaterDataset, viz, train_transform, test_transform"
   ]
  },
  {
   "cell_type": "code",
   "execution_count": 5,
   "metadata": {},
   "outputs": [],
   "source": [
    "d_train = WaterDataset('train_img_list.json', train_transform)\n",
    "d_val = WaterDataset('test_img_list.json', test_transform)"
   ]
  },
  {
   "cell_type": "code",
   "execution_count": 15,
   "metadata": {},
   "outputs": [
    {
     "name": "stdout",
     "output_type": "stream",
     "text": [
      "Populating the interactive namespace from numpy and matplotlib\n"
     ]
    },
    {
     "name": "stderr",
     "output_type": "stream",
     "text": [
      "/opt/conda/lib/python3.7/site-packages/IPython/core/magics/pylab.py:160: UserWarning: pylab import has clobbered these variables: ['f']\n",
      "`%matplotlib` prevents importing * from pylab and numpy\n",
      "  \"\\n`%matplotlib` prevents importing * from pylab and numpy\"\n"
     ]
    }
   ],
   "source": [
    "%pylab inline"
   ]
  },
  {
   "cell_type": "code",
   "execution_count": 30,
   "metadata": {},
   "outputs": [],
   "source": [
    "def viz2(s):\n",
    "    img = (s * torch.tensor([0.229, 0.224, 0.225])[:, None, None] + torch.tensor([0.485, 0.456, 0.406])[:, None,None])\n",
    "    print(img.min(), img.max())\n",
    "    img = (255 * img).transpose(0,1).transpose(1,2).numpy().astype(np.uint8)\n",
    "    plt.imshow(img)"
   ]
  },
  {
   "cell_type": "code",
   "execution_count": 31,
   "metadata": {},
   "outputs": [
    {
     "name": "stdout",
     "output_type": "stream",
     "text": [
      "tensor(0.) tensor(0.6275)\n"
     ]
    },
    {
     "data": {
      "image/png": "[encoded data removed]",
      "text/plain": [
       "<Figure size 432x288 with 1 Axes>"
      ]
     },
     "metadata": {
      "needs_background": "light"
     },
     "output_type": "display_data"
    }
   ],
   "source": [
    "viz2(d_val[3][0])"
   ]
  },
  {
   "cell_type": "code",
   "execution_count": 14,
   "metadata": {},
   "outputs": [
    {
     "data": {
      "text/plain": [
       "(tensor([[[-0.9877, -0.9705, -0.9705,  ..., -2.1179, -2.1179, -2.1179],\n",
       "          [-0.9877, -0.9705, -0.9705,  ..., -2.1179, -2.1179, -2.1179],\n",
       "          [-1.0048, -0.9705, -0.9705,  ..., -2.1179, -2.1179, -2.1179],\n",
       "          ...,\n",
       "          [-2.1179, -2.1179, -2.1179,  ..., -2.1179, -2.1179, -2.1179],\n",
       "          [-2.1179, -2.1179, -2.1179,  ..., -2.1179, -2.1179, -2.1179],\n",
       "          [-2.1179, -2.1179, -2.1179,  ..., -2.1179, -2.1179, -2.1179]],\n",
       " \n",
       "         [[-0.8102, -0.8277, -0.8452,  ..., -2.0357, -2.0357, -2.0357],\n",
       "          [-0.7927, -0.8277, -0.8277,  ..., -2.0357, -2.0357, -2.0357],\n",
       "          [-0.8102, -0.8102, -0.8277,  ..., -2.0357, -2.0357, -2.0357],\n",
       "          ...,\n",
       "          [-2.0357, -2.0357, -2.0357,  ..., -2.0357, -2.0357, -2.0357],\n",
       "          [-2.0357, -2.0357, -2.0357,  ..., -2.0357, -2.0357, -2.0357],\n",
       "          [-2.0357, -2.0357, -2.0357,  ..., -2.0357, -2.0357, -2.0357]],\n",
       " \n",
       "         [[-0.5670, -0.5670, -0.5844,  ..., -1.8044, -1.8044, -1.8044],\n",
       "          [-0.5670, -0.5670, -0.5844,  ..., -1.8044, -1.8044, -1.8044],\n",
       "          [-0.6018, -0.5844, -0.6018,  ..., -1.8044, -1.8044, -1.8044],\n",
       "          ...,\n",
       "          [-1.8044, -1.8044, -1.8044,  ..., -1.8044, -1.8044, -1.8044],\n",
       "          [-1.8044, -1.8044, -1.8044,  ..., -1.8044, -1.8044, -1.8044],\n",
       "          [-1.8044, -1.8044, -1.8044,  ..., -1.8044, -1.8044, -1.8044]]]),\n",
       " tensor([[[1., 1., 1.,  ..., 0., 0., 0.],\n",
       "          [1., 1., 1.,  ..., 0., 0., 0.],\n",
       "          [1., 1., 1.,  ..., 0., 0., 0.],\n",
       "          ...,\n",
       "          [0., 0., 0.,  ..., 0., 0., 0.],\n",
       "          [0., 0., 0.,  ..., 0., 0., 0.],\n",
       "          [0., 0., 0.,  ..., 0., 0., 0.]]]))"
      ]
     },
     "execution_count": 14,
     "metadata": {},
     "output_type": "execute_result"
    }
   ],
   "source": [
    "d_val[3]"
   ]
  },
  {
   "cell_type": "code",
   "execution_count": null,
   "metadata": {},
   "outputs": [],
   "source": [
    "loss = nn.BCEWithLogitsLoss()\n",
    "\n",
    "optimizer = Adam(model.parameters())\n",
    "\n",
    "dl_train = DataLoader(d_train, batch_size=4, shuffle=True, num_workers=4)\n",
    "\n",
    "dl_val = DataLoader(d_val, batch_size=4, shuffle=False, num_workers=4)\n",
    "\n",
    "num_epochs = 100\n",
    "\n",
    "device = 'cuda:0'\n",
    "\n",
    "model = model.to(device)\n",
    "\n",
    "groups = {'acccuracy': ['acc', 'val_acc'], 'bce-loss': ['loss', 'val_loss'], 'lake-acc': ['lakeacc', 'val_lakeacc']}\n",
    "\n",
    "plotlosses = PlotLosses(groups=groups)\n",
    "\n",
    "topk_val_losses = {}\n",
    "\n",
    "train_id = '123'\n",
    "\n",
    "for epoch in range(num_epochs):\n",
    "    print('train step')\n",
    "    \n",
    "    S_loss = 0\n",
    "    S_accuracy = 0\n",
    "    S_lake_accuracy = 0\n",
    "    for idx, (im, gt) in enumerate(dl_train):\n",
    "        im = im.to(device)\n",
    "        gt = gt.to(device)\n",
    "        optimizer.zero_grad()\n",
    "        \n",
    "        pred = model(im)\n",
    "        L = loss(pred, gt)\n",
    "        assert pred.shape == gt.shape\n",
    "        treshold = 0.5\n",
    "        accuracy = ((pred > threshold) != gt.bool()).sum().item() / pred.numel()\n",
    "        lake_accuracy = ((gt == 1) & (pred > threshold)).sum().item() / (gt == 1).sum().item()\n",
    "        #(pred[[]] - gt\n",
    "        # print(L.item())\n",
    "              #(pred > 0.5).sum())\n",
    "        S_loss += L.item()\n",
    "        S_accuracy += accuracy\n",
    "        S_lake_accuracy += lake_accuracy\n",
    "        L.backward()\n",
    "        optimizer.step()\n",
    "    train_loss = S_loss / (idx + 1)\n",
    "    train_accuracy = S_accuracy/ (idx + 1)\n",
    "    train_lake_accuracy = S_lake_accuracy/ (idx + 1)\n",
    "    \n",
    "        #if (idx % 10) == 0:\n",
    "        #    pass # eval\n",
    "        \n",
    "    print('eval step')\n",
    "    S_loss = 0\n",
    "    S_accuracy = 0\n",
    "    S_lake_accuracy = 0\n",
    "    for idx, (im, gt) in enumerate(dl_val):\n",
    "        im = im.to(device)\n",
    "        gt = gt.to(device)\n",
    "        pred = model(im)\n",
    "        L = loss(pred, gt)\n",
    "        # print(L.item())\n",
    "        S_loss += L.item()\n",
    "        treshold = 0.5\n",
    "        accuracy = ((pred > threshold) != gt.bool()).sum().item() / pred.numel()\n",
    "        lake_accuracy = ((gt == 1) & (pred > threshold)).sum().item() / (gt == 1).sum().item()\n",
    "        S_accuracy += accuracy\n",
    "        S_lake_accuracy += lake_accuracy\n",
    "    val_loss = S_loss / (idx + 1)\n",
    "    val_accuracy = S_accuracy/ (idx + 1)\n",
    "    val_lake_accuracy = S_lake_accuracy/ (idx + 1)\n",
    "    \n",
    "    plotlosses.update({'val_loss': val_loss, 'loss': train_loss, 'val_acc': val_accuracy, 'acc': train_accuracy, 'lakeacc': train_lake_accuracy, 'val_lakeacc': val_lake_accuracy})\n",
    "    plotlosses.send()\n",
    "    \n",
    "    if (len(topk_val_losses) < 5) or (val_loss < max(topk_val_losses.keys())):\n",
    "        if (len(topk_val_losses) > 0) and (val_loss < max(topk_val_losses.keys())):\n",
    "            argmin = max(topk_val_losses.keys())\n",
    "            fname = topk_val_losses[argmin]\n",
    "            os.remove(fname)\n",
    "            del topk_val_losses[argmin]\n",
    "        topk_val_losses[val_loss] = f'model-{train_id}-{epoch}.pth'\n",
    "        torch.save(model.state_dict(), f'model-{train_id}-{epoch}.pth')\n",
    "        \n",
    "torch.save(model.state_dict(), 'model-latest.pth')"
   ]
  }
 ],
 "metadata": {
  "kernelspec": {
   "display_name": "Python 3",
   "language": "python",
   "name": "python3"
  },
  "language_info": {
   "codemirror_mode": {
    "name": "ipython",
    "version": 3
   },
   "file_extension": ".py",
   "mimetype": "text/x-python",
   "name": "python",
   "nbconvert_exporter": "python",
   "pygments_lexer": "ipython3",
   "version": "3.7.7"
  }
 },
 "nbformat": 4,
 "nbformat_minor": 4
}
